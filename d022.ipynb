{
  "nbformat": 4,
  "nbformat_minor": 0,
  "metadata": {
    "colab": {
      "name": "d022.ipynb",
      "provenance": [],
      "authorship_tag": "ABX9TyN16T0ObmGjY+nHJwtRDJV8",
      "include_colab_link": true
    },
    "kernelspec": {
      "name": "python3",
      "display_name": "Python 3"
    },
    "language_info": {
      "name": "python"
    }
  },
  "cells": [
    {
      "cell_type": "markdown",
      "metadata": {
        "id": "view-in-github",
        "colab_type": "text"
      },
      "source": [
        "<a href=\"https://colab.research.google.com/github/andersonProfessor/Python-CeV/blob/main/d022.ipynb\" target=\"_parent\"><img src=\"https://colab.research.google.com/assets/colab-badge.svg\" alt=\"Open In Colab\"/></a>"
      ]
    },
    {
      "cell_type": "code",
      "execution_count": 19,
      "metadata": {
        "colab": {
          "base_uri": "https://localhost:8080/"
        },
        "id": "1igUgnfVlDEc",
        "outputId": "0f67ec52-e217-4eab-f8f4-544e0e0c0257"
      },
      "outputs": [
        {
          "output_type": "stream",
          "name": "stdout",
          "text": [
            "Insira seu nome completo: Emanuel Carlos Bezerra de Sousa\n",
            "Seu nome em MAIÚSCULO é: EMANUEL CARLOS BEZERRA DE SOUSA.\n",
            "Seu nome em minúsculo é: emanuel carlos bezerra de sousa.\n",
            "Seu nome completo tem 27 letras.\n",
            "Seu primeiro nome tem 7 letras.\n"
          ]
        }
      ],
      "source": [
        "# Curso em Vídeo de Python - Professor Gustavo Guanabara\n",
        "# Aluno: Anderson Costa\n",
        "\n",
        "# Desafio 022: Crie um programa que leia o nome completo de uma pessoa e mostre:\n",
        "# (a) O nome com todas as letras maiúsculas.\n",
        "# (b) O nome com todas as letras minúsculas.\n",
        "# (c) Quantas letras ao todo, sem contar os espaços.\n",
        "# (d) Quantas letras tem o primeiro nome.\n",
        "\n",
        "nome = input('Insira seu nome completo: ')\n",
        "\n",
        "# Tratamento da String\n",
        "words = nome.split()\n",
        "nome = ' '.join(words)\n",
        "\n",
        "# Quantidade de Letras\n",
        "letras = len(nome) - nome.count(' ')\n",
        "\n",
        "print(f'Seu nome em MAIÚSCULO é: {nome.upper()}.')\n",
        "print(f'Seu nome em minúsculo é: {nome.lower()}.')\n",
        "print(f'Seu nome completo tem {letras} letras.')\n",
        "print(f'Seu primeiro nome tem {len(nome.split()[0])} letras.')"
      ]
    }
  ]
}