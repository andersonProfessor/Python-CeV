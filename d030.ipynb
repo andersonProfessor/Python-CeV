{
  "nbformat": 4,
  "nbformat_minor": 0,
  "metadata": {
    "colab": {
      "name": "d030",
      "provenance": [],
      "authorship_tag": "ABX9TyP52iaprUQdnzgWrC+LjCGM",
      "include_colab_link": true
    },
    "kernelspec": {
      "name": "python3",
      "display_name": "Python 3"
    },
    "language_info": {
      "name": "python"
    }
  },
  "cells": [
    {
      "cell_type": "markdown",
      "metadata": {
        "id": "view-in-github",
        "colab_type": "text"
      },
      "source": [
        "<a href=\"https://colab.research.google.com/github/andersonProfessor/Python-CeV/blob/main/d030.ipynb\" target=\"_parent\"><img src=\"https://colab.research.google.com/assets/colab-badge.svg\" alt=\"Open In Colab\"/></a>"
      ]
    },
    {
      "cell_type": "code",
      "execution_count": 2,
      "metadata": {
        "colab": {
          "base_uri": "https://localhost:8080/"
        },
        "id": "KWjN2P0Mdjkw",
        "outputId": "3ca8baa1-2f86-46ee-cc3e-3e8ba672dd12"
      },
      "outputs": [
        {
          "output_type": "stream",
          "name": "stdout",
          "text": [
            "Insira um número inteiro: 13\n",
            "\n",
            "Número ÍMPAR.\n"
          ]
        }
      ],
      "source": [
        "# Curso em Vídeo de Python - Professor Gustavo Guanabara\n",
        "# Aluno: Anderson Costa\n",
        "\n",
        "# Desafio 030: Crie um programa que leia um número inteiro e mostre na tela se\n",
        "# ele é PAR ou ÍMPAR.\n",
        "\n",
        "num = int(input('Insira um número inteiro: '))\n",
        "print('\\nNúmero PAR.' if num%2==0 else '\\nNúmero ÍMPAR.')"
      ]
    }
  ]
}