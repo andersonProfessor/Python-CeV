{
  "nbformat": 4,
  "nbformat_minor": 0,
  "metadata": {
    "colab": {
      "name": "d039",
      "provenance": [],
      "authorship_tag": "ABX9TyOlZkFd9rY9XNOcMWkKMOz5",
      "include_colab_link": true
    },
    "kernelspec": {
      "name": "python3",
      "display_name": "Python 3"
    },
    "language_info": {
      "name": "python"
    }
  },
  "cells": [
    {
      "cell_type": "markdown",
      "metadata": {
        "id": "view-in-github",
        "colab_type": "text"
      },
      "source": [
        "<a href=\"https://colab.research.google.com/github/andersonProfessor/Python-CeV/blob/main/d039.ipynb\" target=\"_parent\"><img src=\"https://colab.research.google.com/assets/colab-badge.svg\" alt=\"Open In Colab\"/></a>"
      ]
    },
    {
      "cell_type": "code",
      "execution_count": 4,
      "metadata": {
        "colab": {
          "base_uri": "https://localhost:8080/"
        },
        "id": "W6LqfYdVVKEJ",
        "outputId": "0c790ab2-6b02-4e46-a145-119980392017"
      },
      "outputs": [
        {
          "output_type": "stream",
          "name": "stdout",
          "text": [
            "Ano de Nascimento: 1994\n",
            "\n",
            "Com 28 anos, já passaram 10 anos do seu alistamento ao serviço militar!\n"
          ]
        }
      ],
      "source": [
        "# Curso em Vídeo de Python - Professor Gustavo Guanabara\n",
        "# Aluno: Anderson Costa\n",
        "\n",
        "# Desafio 039: Faça um programa que leia o ano de nascimento de um jovem\n",
        "# e informe, de acordo com sua idade:\n",
        "# - Se ele ainda vai se alistar ao serviço militar.\n",
        "# - Se é a hora de se alistar.\n",
        "# - Se já passou do tempo do alistamento.\n",
        "\n",
        "from datetime import date\n",
        "\n",
        "ano_hoje = date.today().year\n",
        "\n",
        "ano_nasc = int(input('Ano de Nascimento: '))\n",
        "\n",
        "idade = ano_hoje - ano_nasc\n",
        "\n",
        "if idade < 18:\n",
        "  print(f'\\nCom {idade} anos, ainda faltam {18-idade} anos para se alistar ao serviço militar!')\n",
        "elif idade == 18:\n",
        "  print(f'\\nCom {idade} anos, já está na hora de se alistar ao serviço militar!')\n",
        "else:\n",
        "  print(f'\\nCom {idade} anos, já passaram {idade-18} anos do seu alistamento ao serviço militar!')"
      ]
    }
  ]
}