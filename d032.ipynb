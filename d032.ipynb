{
  "nbformat": 4,
  "nbformat_minor": 0,
  "metadata": {
    "colab": {
      "name": "d032",
      "provenance": [],
      "authorship_tag": "ABX9TyO/rcQvUzOfVYvQ1MDmcIU5",
      "include_colab_link": true
    },
    "kernelspec": {
      "name": "python3",
      "display_name": "Python 3"
    },
    "language_info": {
      "name": "python"
    }
  },
  "cells": [
    {
      "cell_type": "markdown",
      "metadata": {
        "id": "view-in-github",
        "colab_type": "text"
      },
      "source": [
        "<a href=\"https://colab.research.google.com/github/andersonProfessor/Python-CeV/blob/main/d032.ipynb\" target=\"_parent\"><img src=\"https://colab.research.google.com/assets/colab-badge.svg\" alt=\"Open In Colab\"/></a>"
      ]
    },
    {
      "cell_type": "code",
      "execution_count": 9,
      "metadata": {
        "colab": {
          "base_uri": "https://localhost:8080/"
        },
        "id": "kOK0Z-L3fRqx",
        "outputId": "5198aa50-2706-4073-b42f-536b3786c825"
      },
      "outputs": [
        {
          "output_type": "stream",
          "name": "stdout",
          "text": [
            "Insira um ano qualquer ou digite 0 para o ano atual: 0\n",
            "\n",
            " O ano 2022 não é BISSEXTO!!!\n"
          ]
        }
      ],
      "source": [
        "# Curso em Vídeo de Python - Professor Gustavo Guanabara\n",
        "# Aluno: Anderson Costa\n",
        "\n",
        "# Desafio 032: Faça um programa que leia um ano qualquer e mostre se ele é Bissexto.\n",
        "\n",
        "from datetime import date\n",
        "\n",
        "year = int(input('Insira um ano qualquer ou digite 0 para o ano atual: '))\n",
        "\n",
        "if year == 0:\n",
        "  year = date.today().year\n",
        "\n",
        "# Para que um ano seja considerado BISSEXTO, ele deve ser divisível por 4, exceto os\n",
        "# múltiplos de 100 que não são múltiplos de 400.\n",
        "\n",
        "if (year%4 == 0 and year%100 != 0) or year%400 == 0:\n",
        "  print(f'\\nO ano {year} é BISSEXTO!!!')\n",
        "else:\n",
        "  print(f'\\n O ano {year} não é BISSEXTO!!!')"
      ]
    }
  ]
}