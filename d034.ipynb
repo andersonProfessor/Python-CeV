{
  "nbformat": 4,
  "nbformat_minor": 0,
  "metadata": {
    "colab": {
      "name": "d034",
      "provenance": [],
      "authorship_tag": "ABX9TyOxijWvNBxF/CYfIARayRs0",
      "include_colab_link": true
    },
    "kernelspec": {
      "name": "python3",
      "display_name": "Python 3"
    },
    "language_info": {
      "name": "python"
    }
  },
  "cells": [
    {
      "cell_type": "markdown",
      "metadata": {
        "id": "view-in-github",
        "colab_type": "text"
      },
      "source": [
        "<a href=\"https://colab.research.google.com/github/andersonProfessor/Python-CeV/blob/main/d034.ipynb\" target=\"_parent\"><img src=\"https://colab.research.google.com/assets/colab-badge.svg\" alt=\"Open In Colab\"/></a>"
      ]
    },
    {
      "cell_type": "code",
      "execution_count": 6,
      "metadata": {
        "colab": {
          "base_uri": "https://localhost:8080/"
        },
        "id": "nfPSvkStgjrr",
        "outputId": "ccba7ce6-faea-437d-fe29-9ddbe6364107"
      },
      "outputs": [
        {
          "output_type": "stream",
          "name": "stdout",
          "text": [
            "Informe seu salário: R$ 2030\n",
            "\n",
            "Com o reajuste de 10%, você terá um aumento de R$ 203.00, passando a receber R$ 2233.00\n"
          ]
        }
      ],
      "source": [
        "# Curso em Vídeo de Python - Professor Gustavo Guanabara\n",
        "# Aluno: Anderson Costa\n",
        "\n",
        "# Desafio 034: Escreva um programa que pergunte o salário de um funcionário e calcule\n",
        "# o valor do seu aumento.\n",
        "# Para salários superiores a R$ 1250,00: Calcule um aumento de 10%.\n",
        "# Para os inferiores ou iguais: Calcule um aumento de 15%.\n",
        "\n",
        "sal = float(input('Informe seu salário: R$ '))\n",
        "\n",
        "if sal > 1250.0:\n",
        "  print(f'\\nCom o reajuste de 10%, você terá um aumento de R$ {sal*0.10:.2f}, passando a receber R$ {sal + sal*0.10:.2f}')\n",
        "else:\n",
        "  print(f'\\nCom o reajuste de 15%, você terá um aumento de R$ {sal*0.15:.2f}, passando a receber R$ {sal + sal*0.15:.2f}')"
      ]
    }
  ]
}