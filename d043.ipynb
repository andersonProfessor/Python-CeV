{
  "nbformat": 4,
  "nbformat_minor": 0,
  "metadata": {
    "colab": {
      "name": "d043",
      "provenance": [],
      "authorship_tag": "ABX9TyNUKiQk3Bc0OMKiMSF81EEZ",
      "include_colab_link": true
    },
    "kernelspec": {
      "name": "python3",
      "display_name": "Python 3"
    },
    "language_info": {
      "name": "python"
    }
  },
  "cells": [
    {
      "cell_type": "markdown",
      "metadata": {
        "id": "view-in-github",
        "colab_type": "text"
      },
      "source": [
        "<a href=\"https://colab.research.google.com/github/andersonProfessor/Python-CeV/blob/main/d043.ipynb\" target=\"_parent\"><img src=\"https://colab.research.google.com/assets/colab-badge.svg\" alt=\"Open In Colab\"/></a>"
      ]
    },
    {
      "cell_type": "code",
      "execution_count": 7,
      "metadata": {
        "colab": {
          "base_uri": "https://localhost:8080/"
        },
        "id": "M9wmu9cy_reU",
        "outputId": "d87485bb-0093-4f62-92a5-42ee28f63c1c"
      },
      "outputs": [
        {
          "output_type": "stream",
          "name": "stdout",
          "text": [
            "Insira seu peso(Kg): 100\n",
            "Insira sua altura(m): 1.72\n",
            "\n",
            "Para uma altura de 1.72m e um peso de 100.0Kg, seu IMC é 33.8\n",
            "\n",
            "Você está obeso! Hora de reduzir a batata-frita já!!!\n"
          ]
        }
      ],
      "source": [
        "# Curso em Vídeo de Python - Professor Gustavo Guanabara\n",
        "# Aluno: Anderson Costa\n",
        "\n",
        "# Desafio 043: Desenvolva uma lógica que leia o peso e a altura de uma pessoa,\n",
        "# calcule seu IMC e mostre seu status, de acordo com a tabela abaixo:\n",
        "# - Abaixo de 18.5: Abaixo do Peso\n",
        "# - Entre 18.5 e 25: Peso Ideal\n",
        "# - De 25 até 30: Sobrepeso\n",
        "# - De 30 até 40: Obesidade\n",
        "# - Acima de 40: Obesidade Mórbida\n",
        "\n",
        "w = float(input('Insira seu peso(Kg): '))\n",
        "h = float(input('Insira sua altura(m): '))\n",
        "\n",
        "IMC = w/(h**2)\n",
        "\n",
        "print(f'\\nPara uma altura de {h:.2f}m e um peso de {w:.1f}Kg, seu IMC é {IMC:.1f}')\n",
        "\n",
        "if IMC <= 18.5:\n",
        "  print('\\nVocê está abaixo do peso! Precisa comer mais!!!')\n",
        "elif IMC > 18.5 and IMC <= 25:\n",
        "  print('\\nVocê está com o peso ideal! Parabéns, mantenha uma vida saudável!!!')\n",
        "elif IMC > 25 and IMC <= 30:\n",
        "  print('\\nVocê está com sobrepeso! Tome cuidado para não perder o controle!!!')\n",
        "elif IMC > 30 and IMC <= 40:\n",
        "  print('\\nVocê está obeso! Hora de reduzir a batata-frita já!!!')\n",
        "else:\n",
        "  print('\\nProcure um médico urgentemente!!! Você está com obesidade mórbida!!!')"
      ]
    }
  ]
}