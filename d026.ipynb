{
  "nbformat": 4,
  "nbformat_minor": 0,
  "metadata": {
    "colab": {
      "name": "d026",
      "provenance": [],
      "authorship_tag": "ABX9TyN5zEJHfeUKUn+ZdlSjYUNn",
      "include_colab_link": true
    },
    "kernelspec": {
      "name": "python3",
      "display_name": "Python 3"
    },
    "language_info": {
      "name": "python"
    }
  },
  "cells": [
    {
      "cell_type": "markdown",
      "metadata": {
        "id": "view-in-github",
        "colab_type": "text"
      },
      "source": [
        "<a href=\"https://colab.research.google.com/github/andersonProfessor/Python-CeV/blob/main/d026.ipynb\" target=\"_parent\"><img src=\"https://colab.research.google.com/assets/colab-badge.svg\" alt=\"Open In Colab\"/></a>"
      ]
    },
    {
      "cell_type": "code",
      "execution_count": 14,
      "metadata": {
        "colab": {
          "base_uri": "https://localhost:8080/"
        },
        "id": "fHO7449Y4Nm8",
        "outputId": "01d4ee44-fb64-4d0d-82fd-6712f011531f"
      },
      "outputs": [
        {
          "output_type": "stream",
          "name": "stdout",
          "text": [
            "Insira uma frase pelo teclado: Arara Azul\n",
            "\n",
            "A letra A aparece 4 vezes nesta frase.\n",
            "\n",
            "A letra A aparece pela primeira vez na posição 1.\n",
            "\n",
            "A letra A aparece pela última vez na posição 7.\n"
          ]
        }
      ],
      "source": [
        "# Curso em Vídeo de Python - Professor Gustavo Guanabara\n",
        "# Aluno: Anderson Costa\n",
        "\n",
        "# Desafio 026: Faça um programa que leia uma frase pelo teclado e mostre:\n",
        "# (a) Quantas vezes aparece a letra A.\n",
        "# (b) Em que posição ela aparece a primeira vez.\n",
        "# (c) Em que posição ela aparece a última vez.\n",
        "\n",
        "frase = input('Insira uma frase pelo teclado: ')\n",
        "\n",
        "# Tratamento\n",
        "frase = frase.upper().strip()\n",
        "frase.replace('Á','A')\n",
        "frase.replace('Ã','A')\n",
        "rev = frase[len(frase)::-1]\n",
        "\n",
        "print(f'\\nA letra A aparece {frase.count(\"A\")} vezes nesta frase.')\n",
        "print(f'\\nA letra A aparece pela primeira vez na posição {frase.find(\"A\")+1}.')\n",
        "print(f'\\nA letra A aparece pela última vez na posição {len(frase) - rev.find(\"A\")}.')"
      ]
    }
  ]
}