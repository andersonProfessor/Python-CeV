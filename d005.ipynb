{
  "nbformat": 4,
  "nbformat_minor": 0,
  "metadata": {
    "colab": {
      "name": "d005",
      "provenance": [],
      "authorship_tag": "ABX9TyOnz6OiOYocMe+EZv0fKcfB",
      "include_colab_link": true
    },
    "kernelspec": {
      "name": "python3",
      "display_name": "Python 3"
    },
    "language_info": {
      "name": "python"
    }
  },
  "cells": [
    {
      "cell_type": "markdown",
      "metadata": {
        "id": "view-in-github",
        "colab_type": "text"
      },
      "source": [
        "<a href=\"https://colab.research.google.com/github/andersonProfessor/Python-CeV/blob/main/d005.ipynb\" target=\"_parent\"><img src=\"https://colab.research.google.com/assets/colab-badge.svg\" alt=\"Open In Colab\"/></a>"
      ]
    },
    {
      "cell_type": "code",
      "execution_count": 3,
      "metadata": {
        "colab": {
          "base_uri": "https://localhost:8080/"
        },
        "id": "zo2sgPuvxo8f",
        "outputId": "93a07dc4-df66-4221-ae73-f6ff2238d036"
      },
      "outputs": [
        {
          "output_type": "stream",
          "name": "stdout",
          "text": [
            "Digite um número inteiro: 29\n",
            "O antecessor é 28 e o sucessor é 30.\n"
          ]
        }
      ],
      "source": [
        "# Curso em Vídeo de Python - Professor Gustavo Guanabara\n",
        "# Aluno: Anderson Costa\n",
        "\n",
        "# Desafio 005: Faça um programa que leia um número inteiro e mostre na tela o seu antecessor e seu sucessor.\n",
        "\n",
        "num = int(input('Digite um número inteiro: '))\n",
        "print(f'O antecessor é {num-1} e o sucessor é {num+1}.')"
      ]
    }
  ]
}