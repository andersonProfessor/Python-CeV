{
  "nbformat": 4,
  "nbformat_minor": 0,
  "metadata": {
    "colab": {
      "name": "d009",
      "provenance": [],
      "authorship_tag": "ABX9TyP+lLD60k2fC8TKbKWRRrb9",
      "include_colab_link": true
    },
    "kernelspec": {
      "name": "python3",
      "display_name": "Python 3"
    },
    "language_info": {
      "name": "python"
    }
  },
  "cells": [
    {
      "cell_type": "markdown",
      "metadata": {
        "id": "view-in-github",
        "colab_type": "text"
      },
      "source": [
        "<a href=\"https://colab.research.google.com/github/andersonProfessor/Python-CeV/blob/main/d009.ipynb\" target=\"_parent\"><img src=\"https://colab.research.google.com/assets/colab-badge.svg\" alt=\"Open In Colab\"/></a>"
      ]
    },
    {
      "cell_type": "code",
      "execution_count": 19,
      "metadata": {
        "colab": {
          "base_uri": "https://localhost:8080/"
        },
        "id": "dPZtn9UpmqMB",
        "outputId": "af348d6a-2e97-418f-a8c0-f06a3a285835"
      },
      "outputs": [
        {
          "output_type": "stream",
          "name": "stdout",
          "text": [
            "Insira um número inteiro: 7\n",
            "\n",
            "TABUADA DO 7\n",
            "------------\n",
            "7 X  1 = 7\n",
            "7 X  2 = 14\n",
            "7 X  3 = 21\n",
            "7 X  4 = 28\n",
            "7 X  5 = 35\n",
            "7 X  6 = 42\n",
            "7 X  7 = 49\n",
            "7 X  8 = 56\n",
            "7 X  9 = 63\n",
            "7 X 10 = 70\n",
            "------------\n"
          ]
        }
      ],
      "source": [
        "# Curso em Vídeo de Python - Professor Gustavo Guanabara\n",
        "# Aluno: Anderson Costa\n",
        "\n",
        "# Desafio 009: Faça um programa que leia um número inteiro qualquer e mostre na tela a sua tabuada.\n",
        "\n",
        "num = int(input('Insira um número inteiro: '))\n",
        "print(f'\\nTABUADA DO {num}')\n",
        "print(12*'-')\n",
        "print(f'{num} X {1:2} = {1*num}')\n",
        "print(f'{num} X {2:2} = {2*num}')\n",
        "print(f'{num} X {3:2} = {3*num}')\n",
        "print(f'{num} X {4:2} = {4*num}')\n",
        "print(f'{num} X {5:2} = {5*num}')\n",
        "print(f'{num} X {6:2} = {6*num}')\n",
        "print(f'{num} X {7:2} = {7*num}')\n",
        "print(f'{num} X {8:2} = {8*num}')\n",
        "print(f'{num} X {9:2} = {9*num}')\n",
        "print(f'{num} X {10} = {10*num}')\n",
        "print(12*'-')"
      ]
    }
  ]
}