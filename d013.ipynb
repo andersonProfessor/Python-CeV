{
  "nbformat": 4,
  "nbformat_minor": 0,
  "metadata": {
    "colab": {
      "name": "d013",
      "provenance": [],
      "authorship_tag": "ABX9TyNEcmVojILpgBBJP8I/cvWn",
      "include_colab_link": true
    },
    "kernelspec": {
      "name": "python3",
      "display_name": "Python 3"
    },
    "language_info": {
      "name": "python"
    }
  },
  "cells": [
    {
      "cell_type": "markdown",
      "metadata": {
        "id": "view-in-github",
        "colab_type": "text"
      },
      "source": [
        "<a href=\"https://colab.research.google.com/github/andersonProfessor/Python-CeV/blob/main/d013.ipynb\" target=\"_parent\"><img src=\"https://colab.research.google.com/assets/colab-badge.svg\" alt=\"Open In Colab\"/></a>"
      ]
    },
    {
      "cell_type": "code",
      "execution_count": 3,
      "metadata": {
        "colab": {
          "base_uri": "https://localhost:8080/"
        },
        "id": "euWzwlTz6a0c",
        "outputId": "276d8231-c92d-4ecb-d9f2-2e95f49d8e98"
      },
      "outputs": [
        {
          "output_type": "stream",
          "name": "stdout",
          "text": [
            "Qual o salário do funcionário? R$ 3500\n",
            "Com o aumento de 15% o novo salário do funcionário é no valor de R$ 4025.00\n"
          ]
        }
      ],
      "source": [
        "# Curso em Vídeo de Python - Professor Gustavo Guanabara\n",
        "# Aluno: Anderson Costa\n",
        "\n",
        "# Desafio 013: Faça um algoritmo que leia o salário de um funcionário e mostre o seu novo salário com 15% de aumento.\n",
        "\n",
        "salário = float(input('Qual o salário do funcionário? R$ '))\n",
        "print(f'Com o aumento de 15% o novo salário do funcionário é no valor de R$ {salário*1.15:.2f}')"
      ]
    }
  ]
}