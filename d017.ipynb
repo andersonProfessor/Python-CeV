{
  "nbformat": 4,
  "nbformat_minor": 0,
  "metadata": {
    "colab": {
      "name": "d017",
      "provenance": [],
      "authorship_tag": "ABX9TyNUii+S7SZajjcpDOH8RnW8",
      "include_colab_link": true
    },
    "kernelspec": {
      "name": "python3",
      "display_name": "Python 3"
    },
    "language_info": {
      "name": "python"
    }
  },
  "cells": [
    {
      "cell_type": "markdown",
      "metadata": {
        "id": "view-in-github",
        "colab_type": "text"
      },
      "source": [
        "<a href=\"https://colab.research.google.com/github/andersonProfessor/Python-CeV/blob/main/d017.ipynb\" target=\"_parent\"><img src=\"https://colab.research.google.com/assets/colab-badge.svg\" alt=\"Open In Colab\"/></a>"
      ]
    },
    {
      "cell_type": "code",
      "execution_count": 7,
      "metadata": {
        "colab": {
          "base_uri": "https://localhost:8080/"
        },
        "id": "eOhh75dRVdV8",
        "outputId": "b6af1dc3-013f-4dcb-ae20-6989f12246dd"
      },
      "outputs": [
        {
          "output_type": "stream",
          "name": "stdout",
          "text": [
            "Medida do Cateto Oposto: 3\n",
            "Medida do Cateto Adjacente: 4\n",
            "\n",
            "A medida da Hipotenusa é 5.00.\n"
          ]
        }
      ],
      "source": [
        "# Curso em Vídeo de Python - Professor Gustavo Guanabara\n",
        "# Aluno: Anderson Costa\n",
        "\n",
        "# Desafio 017: Faça um programa que leia o comprimento do cateto oposto e do cateto adjacente\n",
        "# de um triângulo retângulo, calcule e mostre o comprimento da hipotenusa.\n",
        "\n",
        "from math import sqrt, pow, hypot\n",
        "\n",
        "co = float(input('Medida do Cateto Oposto: '))\n",
        "ca = float(input('Medida do Cateto Adjacente: '))\n",
        "h = sqrt(pow(co, 2) + pow(ca, 2))\n",
        "\n",
        "# h = hypot(co, ca)\n",
        "\n",
        "print(f'\\nA medida da Hipotenusa é {h:.2f}.')"
      ]
    }
  ]
}