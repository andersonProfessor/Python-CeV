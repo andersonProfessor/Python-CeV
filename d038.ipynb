{
  "nbformat": 4,
  "nbformat_minor": 0,
  "metadata": {
    "colab": {
      "name": "d038",
      "provenance": [],
      "authorship_tag": "ABX9TyPkV8alFPNmzMH1C5PLCEhl",
      "include_colab_link": true
    },
    "kernelspec": {
      "name": "python3",
      "display_name": "Python 3"
    },
    "language_info": {
      "name": "python"
    }
  },
  "cells": [
    {
      "cell_type": "markdown",
      "metadata": {
        "id": "view-in-github",
        "colab_type": "text"
      },
      "source": [
        "<a href=\"https://colab.research.google.com/github/andersonProfessor/Python-CeV/blob/main/d038.ipynb\" target=\"_parent\"><img src=\"https://colab.research.google.com/assets/colab-badge.svg\" alt=\"Open In Colab\"/></a>"
      ]
    },
    {
      "cell_type": "code",
      "execution_count": 3,
      "metadata": {
        "colab": {
          "base_uri": "https://localhost:8080/"
        },
        "id": "tFHMQuadTjKw",
        "outputId": "4826481c-e074-4c96-e897-071b999bb5db"
      },
      "outputs": [
        {
          "output_type": "stream",
          "name": "stdout",
          "text": [
            "Primeiro número inteiro: 4\n",
            "Segundo número inteiro: 4\n",
            "\n",
            "Não existe valor maior, os dois são iguais!\n"
          ]
        }
      ],
      "source": [
        "# Curso em Vídeo de Python - Professor Gustavo Guanabara\n",
        "# Aluno: Anderson Costa\n",
        "\n",
        "# Desafio 038: Escreva um programa que leia dois números inteiros e compare-os,\n",
        "# mostrando na tela uma mensagem:\n",
        "# - O primeiro valor é maior.\n",
        "# - O segundo valor é maior.\n",
        "# - Não existe valor maior, os dois são iguais.\n",
        "\n",
        "n1 = int(input('Primeiro número inteiro: '))\n",
        "n2 = int(input('Segundo número inteiro: '))\n",
        "\n",
        "if n1 > n2:\n",
        "  print('\\nO primeiro valor é maior!')\n",
        "elif n1 < n2:\n",
        "  print('\\nO segundo valor é maior!')\n",
        "else:\n",
        "  print('\\nNão existe valor maior, os dois são iguais!')"
      ]
    }
  ]
}