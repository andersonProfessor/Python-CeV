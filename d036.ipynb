{
  "nbformat": 4,
  "nbformat_minor": 0,
  "metadata": {
    "colab": {
      "name": "d036",
      "provenance": [],
      "authorship_tag": "ABX9TyOBJijY3smKd28mAm1F7Fwb",
      "include_colab_link": true
    },
    "kernelspec": {
      "name": "python3",
      "display_name": "Python 3"
    },
    "language_info": {
      "name": "python"
    }
  },
  "cells": [
    {
      "cell_type": "markdown",
      "metadata": {
        "id": "view-in-github",
        "colab_type": "text"
      },
      "source": [
        "<a href=\"https://colab.research.google.com/github/andersonProfessor/Python-CeV/blob/main/d036.ipynb\" target=\"_parent\"><img src=\"https://colab.research.google.com/assets/colab-badge.svg\" alt=\"Open In Colab\"/></a>"
      ]
    },
    {
      "cell_type": "code",
      "execution_count": 5,
      "metadata": {
        "colab": {
          "base_uri": "https://localhost:8080/"
        },
        "id": "IGFnA17as7fv",
        "outputId": "d5b88ca5-7d13-4027-9d47-d793ba4e1237"
      },
      "outputs": [
        {
          "output_type": "stream",
          "name": "stdout",
          "text": [
            "Valor da Casa: R$ 80000\n",
            "Salário do Comprador: R$ 1600\n",
            "Tempo de Pagamento: 7\n",
            "\n",
            "Empréstimo NEGADO!!! As parcelas do imóvel são de R$952.38, que excede 30% do salário do Comprador.\n"
          ]
        }
      ],
      "source": [
        "# Curso em Vídeo de Python - Professor Gustavo Guanabara\n",
        "# Aluno: Anderson Costa\n",
        "\n",
        "# Desafio 036: Escreva um programa para aprovar o empréstimo bancário para\n",
        "# a compra de uma casa. O programa vai perguntar o valor da casa, o salário\n",
        "# do comprador e em quantos anos ele vai pagar.\n",
        "#   Calcule o valor da prestação mensal, sabendo que ele não pode exceder 30%\n",
        "# do salário ou então o empréstimo será negado.\n",
        "\n",
        "valor_casa = float(input('Valor da Casa: R$ '))\n",
        "sal_comp = float(input('Salário do Comprador: R$ '))\n",
        "t = float(input('Tempo de Pagamento: '))\n",
        "\n",
        "# Cálculo das Parcelas\n",
        "parc = valor_casa / (12*t)\n",
        "\n",
        "if parc > 0.3*sal_comp:\n",
        "  print(f'\\nEmpréstimo NEGADO!!! As parcelas do imóvel são de R${parc:.2f}, que excede 30% do salário do Comprador.')\n",
        "else:\n",
        "  print(f'\\nEmpréstimo APROVADO!!! As parcelas do imóvel são de R${parc:.2f}, que é compatível com o salário do Comprador.')"
      ]
    }
  ]
}