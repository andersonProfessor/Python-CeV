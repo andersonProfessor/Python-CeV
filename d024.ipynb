{
  "nbformat": 4,
  "nbformat_minor": 0,
  "metadata": {
    "colab": {
      "name": "d024",
      "provenance": [],
      "authorship_tag": "ABX9TyMBvOZBpjxRZskWVSHVQd1b",
      "include_colab_link": true
    },
    "kernelspec": {
      "name": "python3",
      "display_name": "Python 3"
    },
    "language_info": {
      "name": "python"
    }
  },
  "cells": [
    {
      "cell_type": "markdown",
      "metadata": {
        "id": "view-in-github",
        "colab_type": "text"
      },
      "source": [
        "<a href=\"https://colab.research.google.com/github/andersonProfessor/Python-CeV/blob/main/d024.ipynb\" target=\"_parent\"><img src=\"https://colab.research.google.com/assets/colab-badge.svg\" alt=\"Open In Colab\"/></a>"
      ]
    },
    {
      "cell_type": "code",
      "execution_count": 5,
      "metadata": {
        "colab": {
          "base_uri": "https://localhost:8080/"
        },
        "id": "BU4EwTv8y1JR",
        "outputId": "b87d9f0f-5824-41c2-eaaf-06beb85a28a9"
      },
      "outputs": [
        {
          "output_type": "stream",
          "name": "stdout",
          "text": [
            "Informe o nome da cidade: Santo André\n",
            "\n",
            "A cidade informada começa com nome SANTO? True\n"
          ]
        }
      ],
      "source": [
        "# Curso em Vídeo de Python - Professor Gustavo Guanabara\n",
        "# Aluno: Anderson Costa\n",
        "\n",
        "# Desafio 024: Crie um programa que leia o nome de uma cidade e diga se ela começa\n",
        "# ou não com o nome \"SANTO\".\n",
        "\n",
        "city = input('Informe o nome da cidade: ')\n",
        "\n",
        "# Tratamento da String\n",
        "city = city.upper().strip()\n",
        "\n",
        "print(f'\\nA cidade informada começa com nome SANTO? {city.split()[0] == \"SANTO\"}')"
      ]
    }
  ]
}