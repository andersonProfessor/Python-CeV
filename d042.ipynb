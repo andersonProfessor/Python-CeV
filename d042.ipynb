{
  "nbformat": 4,
  "nbformat_minor": 0,
  "metadata": {
    "colab": {
      "name": "d042",
      "provenance": [],
      "authorship_tag": "ABX9TyOGQQxjTXZ91yt/EqZD2BLu",
      "include_colab_link": true
    },
    "kernelspec": {
      "name": "python3",
      "display_name": "Python 3"
    },
    "language_info": {
      "name": "python"
    }
  },
  "cells": [
    {
      "cell_type": "markdown",
      "metadata": {
        "id": "view-in-github",
        "colab_type": "text"
      },
      "source": [
        "<a href=\"https://colab.research.google.com/github/andersonProfessor/Python-CeV/blob/main/d042.ipynb\" target=\"_parent\"><img src=\"https://colab.research.google.com/assets/colab-badge.svg\" alt=\"Open In Colab\"/></a>"
      ]
    },
    {
      "cell_type": "code",
      "execution_count": 10,
      "metadata": {
        "colab": {
          "base_uri": "https://localhost:8080/"
        },
        "id": "shp60jyp7Lz6",
        "outputId": "613c5510-6554-4670-f549-a39a6022c59c"
      },
      "outputs": [
        {
          "output_type": "stream",
          "name": "stdout",
          "text": [
            "Medida da RETA 1: 2\n",
            "Medida da RETA 2: 10\n",
            "Medida da RETA 3: 10\n",
            "\n",
            "O triângulo é ISÓSCELES!\n"
          ]
        }
      ],
      "source": [
        "# Curso em Vídeo de Python - Professor Gustavo Guanabara\n",
        "# Aluno: Anderson Costa\n",
        "\n",
        "# Desafio 042: Refaça o d035 dos triângulos, acrescentando o recurso de mostrar que tipo de triângulo\n",
        "# será formado:\n",
        "# - Equilátero: todos os lados iguais.\n",
        "# - Isósceles: dois lados iguais.\n",
        "# - Escaleno: todos os lados diferentes.\n",
        "\n",
        "r1 = float(input('Medida da RETA 1: '))\n",
        "r2 = float(input('Medida da RETA 2: '))\n",
        "r3 = float(input('Medida da RETA 3: '))\n",
        "\n",
        "if abs(r2 - r3) < r1 < (r2 + r3) and abs(r1 - r3) < r2 < (r1 + r3) and abs(r1 - r2) < r3 < (r1 + r2):\n",
        "  if (r1 == r2) and (r2 == r3):\n",
        "    print('\\nO triângulo é EQUILÁTERO!')\n",
        "  elif (r1 != r2) and (r1 != r3) and (r2 != r3):\n",
        "    print('\\nO triângulo é ESCALENO!')\n",
        "  else:\n",
        "    print('\\nO triângulo é ISÓSCELES!')\n",
        "else:\n",
        "  print('\\nAs retas NÃO podem formar um triângulo!')"
      ]
    }
  ]
}