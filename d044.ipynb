{
  "nbformat": 4,
  "nbformat_minor": 0,
  "metadata": {
    "colab": {
      "name": "d044",
      "provenance": [],
      "authorship_tag": "ABX9TyNSDOoulVSO0ZK70Lomzp1P",
      "include_colab_link": true
    },
    "kernelspec": {
      "name": "python3",
      "display_name": "Python 3"
    },
    "language_info": {
      "name": "python"
    }
  },
  "cells": [
    {
      "cell_type": "markdown",
      "metadata": {
        "id": "view-in-github",
        "colab_type": "text"
      },
      "source": [
        "<a href=\"https://colab.research.google.com/github/andersonProfessor/Python-CeV/blob/main/d044.ipynb\" target=\"_parent\"><img src=\"https://colab.research.google.com/assets/colab-badge.svg\" alt=\"Open In Colab\"/></a>"
      ]
    },
    {
      "cell_type": "code",
      "execution_count": 6,
      "metadata": {
        "colab": {
          "base_uri": "https://localhost:8080/"
        },
        "id": "TwfJjrUDDLfZ",
        "outputId": "9f6f63a4-a0a7-4e29-badf-3fe2cba6f303"
      },
      "outputs": [
        {
          "output_type": "stream",
          "name": "stdout",
          "text": [
            "Preço do Produto: R$ 100\n",
            "\n",
            "[1] - À vista (Dinheiro ou Cheque) \n",
            "[2] - À vista (Cartão) \n",
            "[3] - Em até 2x no Cartão \n",
            "[4] - Em 3x ou mais no Cartão\n",
            "\n",
            "Selecione a Forma de Pagamento: 1\n",
            "\n",
            "Pagando à vista no Dinheiro ou Cheque, o valor do produto é R$90.00\n"
          ]
        }
      ],
      "source": [
        "# Curso em Vídeo de Python - Professor Gustavo Guanabara\n",
        "# Aluno: Anderson Costa\n",
        "\n",
        "# Desafio 044: Elabore um programa que calcule o valor a ser pago por um produto,\n",
        "# considerando o seu preço normal e a condição de pagamento:\n",
        "# - À vista (Dinheiro ou Cheque): 10% de desconto\n",
        "# - À vista (Cartão): 5% de desconto\n",
        "# - Em até 2x no Cartão: Preço Normal\n",
        "# - Em 3x ou mais no Cartão: 20% de Juros\n",
        "\n",
        "preço = float(input('Preço do Produto: R$ '))\n",
        "\n",
        "print('\\n[1] - À vista (Dinheiro ou Cheque) \\n[2] - À vista (Cartão) \\n[3] - Em até 2x no Cartão \\n[4] - Em 3x ou mais no Cartão\\n')\n",
        "\n",
        "forma = int(input('Selecione a Forma de Pagamento: '))\n",
        "\n",
        "if forma == 1:\n",
        "  print(f'\\nPagando à vista no Dinheiro ou Cheque, o valor do produto é R${preço-0.1*preço:.2f}')\n",
        "elif forma == 2:\n",
        "  print(f'\\nPagando à vista no Cartão, o valor do produto é R${preço-0.05*preço:.2f}')\n",
        "elif forma == 3:\n",
        "  print(f'\\nPagando em até 2x no Cartão, o valor do produto é R${preço:.2f}')\n",
        "elif forma == 4:\n",
        "  print(f'\\nPagando em 3x ou mais no Cartão, o valor do produto é R${preço+0.2*preço:.2f}')\n",
        "else:\n",
        "  print('\\nForma de Pagamento inválida! Tente novamente!!!')"
      ]
    }
  ]
}