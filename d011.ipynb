{
  "nbformat": 4,
  "nbformat_minor": 0,
  "metadata": {
    "colab": {
      "name": "d011",
      "provenance": [],
      "authorship_tag": "ABX9TyPmrA797/C0xaxrNkljxpL6",
      "include_colab_link": true
    },
    "kernelspec": {
      "name": "python3",
      "display_name": "Python 3"
    },
    "language_info": {
      "name": "python"
    }
  },
  "cells": [
    {
      "cell_type": "markdown",
      "metadata": {
        "id": "view-in-github",
        "colab_type": "text"
      },
      "source": [
        "<a href=\"https://colab.research.google.com/github/andersonProfessor/Python-CeV/blob/main/d011.ipynb\" target=\"_parent\"><img src=\"https://colab.research.google.com/assets/colab-badge.svg\" alt=\"Open In Colab\"/></a>"
      ]
    },
    {
      "cell_type": "code",
      "execution_count": 2,
      "metadata": {
        "colab": {
          "base_uri": "https://localhost:8080/"
        },
        "id": "I5sCqxXwzC8U",
        "outputId": "bb2d670c-db08-415b-fda6-00b848444020"
      },
      "outputs": [
        {
          "output_type": "stream",
          "name": "stdout",
          "text": [
            "Largura da parede (metros): 2.5\n",
            "Altura da parede (metros): 1.75\n",
            "A área da parede é 4.375 m². São necessários então 2.1875 litros de tinta para pintá-la.\n"
          ]
        }
      ],
      "source": [
        "# Curso em Vídeo de Python - Professor Gustavo Guanabara\n",
        "# Aluno: Anderson Costa\n",
        "\n",
        "# Desafio 011: Faça um programa que leia a largura e a altura de uma parede em metros, calcule a sua área e a quantidade\n",
        "# de tinta necessária para pintá-la, sabendo que cada litro de tinta pinta uma área de 2 metros quadrados.\n",
        "\n",
        "l = float(input('Largura da parede (metros): '))\n",
        "h = float(input('Altura da parede (metros): '))\n",
        "\n",
        "print(f'A área da parede é {l*h} m². São necessários então {(l*h)/2} litros de tinta para pintá-la.')\n",
        "\n"
      ]
    }
  ]
}