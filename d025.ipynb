{
  "nbformat": 4,
  "nbformat_minor": 0,
  "metadata": {
    "colab": {
      "name": "d025",
      "provenance": [],
      "authorship_tag": "ABX9TyPr1GOGZpgtZAA9nxXChgfk",
      "include_colab_link": true
    },
    "kernelspec": {
      "name": "python3",
      "display_name": "Python 3"
    },
    "language_info": {
      "name": "python"
    }
  },
  "cells": [
    {
      "cell_type": "markdown",
      "metadata": {
        "id": "view-in-github",
        "colab_type": "text"
      },
      "source": [
        "<a href=\"https://colab.research.google.com/github/andersonProfessor/Python-CeV/blob/main/d025.ipynb\" target=\"_parent\"><img src=\"https://colab.research.google.com/assets/colab-badge.svg\" alt=\"Open In Colab\"/></a>"
      ]
    },
    {
      "cell_type": "code",
      "execution_count": 6,
      "metadata": {
        "colab": {
          "base_uri": "https://localhost:8080/"
        },
        "id": "737giDGW_0sF",
        "outputId": "44cb6d3c-1dca-4053-bd7c-9d5b7aeaccc3"
      },
      "outputs": [
        {
          "output_type": "stream",
          "name": "stdout",
          "text": [
            "Digite seu nome completo: Pedro Ribeiro da Silva Santos\n",
            "\n",
            "O seu nome tem Silva? True\n"
          ]
        }
      ],
      "source": [
        "# Curso em Vídeo de Python - Professor Gustavo Guanabara\n",
        "# Aluno: Anderson Costa\n",
        "\n",
        "# Desafio 025: Crie um programa que leia o nome de uma pessoa e diga se ela tem \"Silva\" no nome.\n",
        "\n",
        "nome = input('Digite seu nome completo: ')\n",
        "\n",
        "# Tratamento da String\n",
        "nome = nome.strip().title()\n",
        "\n",
        "print(f'\\nO seu nome tem Silva? {\"Silva\" in nome}')"
      ]
    }
  ]
}