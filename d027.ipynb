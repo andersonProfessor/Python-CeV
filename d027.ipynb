{
  "nbformat": 4,
  "nbformat_minor": 0,
  "metadata": {
    "colab": {
      "name": "d027",
      "provenance": [],
      "authorship_tag": "ABX9TyM6JcujHpobRSXRyUaitYQ2",
      "include_colab_link": true
    },
    "kernelspec": {
      "name": "python3",
      "display_name": "Python 3"
    },
    "language_info": {
      "name": "python"
    }
  },
  "cells": [
    {
      "cell_type": "markdown",
      "metadata": {
        "id": "view-in-github",
        "colab_type": "text"
      },
      "source": [
        "<a href=\"https://colab.research.google.com/github/andersonProfessor/Python-CeV/blob/main/d027.ipynb\" target=\"_parent\"><img src=\"https://colab.research.google.com/assets/colab-badge.svg\" alt=\"Open In Colab\"/></a>"
      ]
    },
    {
      "cell_type": "code",
      "execution_count": 4,
      "metadata": {
        "colab": {
          "base_uri": "https://localhost:8080/"
        },
        "id": "e8qliPvj9jJJ",
        "outputId": "17351d95-25e8-40f3-db8d-1a17badf3fc1"
      },
      "outputs": [
        {
          "output_type": "stream",
          "name": "stdout",
          "text": [
            "Digite seu nome completo: Jéssica Ellen Uchôa de Sousa\n",
            "\n",
            "Seu nome reduzido é Jéssica Sousa.\n"
          ]
        }
      ],
      "source": [
        "# Curso em Vídeo de Python - Professor Gustavo Guanabara\n",
        "# Aluno: Anderson Costa\n",
        "\n",
        "# Desafio 027: Faça um programa que leia o nome completo de uma pessoa, mostrando\n",
        "# em seguida o primeiro e o último nome separadamente.\n",
        "# Exemplo: Ana Maria de Souza --> Ana Souza\n",
        "\n",
        "nome = str(input('Digite seu nome completo: ')).title()\n",
        "\n",
        "print(f'\\nSeu nome reduzido é {nome.split()[0]} {nome.split()[-1]}.')"
      ]
    }
  ]
}