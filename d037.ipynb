{
  "nbformat": 4,
  "nbformat_minor": 0,
  "metadata": {
    "colab": {
      "name": "d037",
      "provenance": [],
      "authorship_tag": "ABX9TyOkoFaueMB9/T4d6dztlXqR",
      "include_colab_link": true
    },
    "kernelspec": {
      "name": "python3",
      "display_name": "Python 3"
    },
    "language_info": {
      "name": "python"
    }
  },
  "cells": [
    {
      "cell_type": "markdown",
      "metadata": {
        "id": "view-in-github",
        "colab_type": "text"
      },
      "source": [
        "<a href=\"https://colab.research.google.com/github/andersonProfessor/Python-CeV/blob/main/d037.ipynb\" target=\"_parent\"><img src=\"https://colab.research.google.com/assets/colab-badge.svg\" alt=\"Open In Colab\"/></a>"
      ]
    },
    {
      "cell_type": "code",
      "execution_count": 11,
      "metadata": {
        "colab": {
          "base_uri": "https://localhost:8080/"
        },
        "id": "zXLoLEM4yOCg",
        "outputId": "b813a92c-3d41-4617-e33e-c4dcac772bde"
      },
      "outputs": [
        {
          "output_type": "stream",
          "name": "stdout",
          "text": [
            "Insira um número inteiro: 234\n",
            "\n",
            " [1] - Binário \n",
            " [2] - Octal \n",
            " [3] - Hexadecimal \n",
            "\n",
            "Selecione a Base de Conversão: 1\n",
            "\n",
            "O número 234 na base BINÁRIA é 11101010.\n"
          ]
        }
      ],
      "source": [
        "# Curso em Vídeo de Python - Professor Gustavo Guanabara\n",
        "# Aluno: Anderson Costa\n",
        "\n",
        "# Desafio 037: Escreva um programa que leia um número inteiro qualquer\n",
        "# e peça para o usuário escolher qual será a base de conversão:\n",
        "# [1] - Binário [2] - Octal [3] - Hexadecimal\n",
        "\n",
        "n = int(input('Insira um número inteiro: '))\n",
        "\n",
        "print('\\n [1] - Binário \\n [2] - Octal \\n [3] - Hexadecimal \\n')\n",
        "base = int(input('Selecione a Base de Conversão: '))\n",
        "\n",
        "if base == 1:\n",
        "  print(f'\\nO número {n} na base BINÁRIA é {bin(n)[2:]}.')\n",
        "elif base == 2:\n",
        "  print(f'\\nO número {n} na base OCTAL é {oct(n)[2:]}.')\n",
        "elif base == 3:\n",
        "  print(f'\\nO número {n} na base HEXADECIMAL é {hex(n)[2:]}.')\n",
        "else:\n",
        "  print('\\nBase INVÁLIDA!!!')"
      ]
    }
  ]
}