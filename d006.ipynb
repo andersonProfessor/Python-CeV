{
  "nbformat": 4,
  "nbformat_minor": 0,
  "metadata": {
    "colab": {
      "name": "d006",
      "provenance": [],
      "authorship_tag": "ABX9TyMn5AMZuZ8R5tHj9+I9PXy8",
      "include_colab_link": true
    },
    "kernelspec": {
      "name": "python3",
      "display_name": "Python 3"
    },
    "language_info": {
      "name": "python"
    }
  },
  "cells": [
    {
      "cell_type": "markdown",
      "metadata": {
        "id": "view-in-github",
        "colab_type": "text"
      },
      "source": [
        "<a href=\"https://colab.research.google.com/github/andersonProfessor/Python-CeV/blob/main/d006.ipynb\" target=\"_parent\"><img src=\"https://colab.research.google.com/assets/colab-badge.svg\" alt=\"Open In Colab\"/></a>"
      ]
    },
    {
      "cell_type": "code",
      "execution_count": 1,
      "metadata": {
        "colab": {
          "base_uri": "https://localhost:8080/"
        },
        "id": "goemuLIEy39q",
        "outputId": "ab959c6c-2f5b-456d-8419-e065e7f73fca"
      },
      "outputs": [
        {
          "output_type": "stream",
          "name": "stdout",
          "text": [
            "Digite um número: 9\n",
            "O dobro é 18.00, o triplo é 27.00 e a raiz quadrada é 3.00.\n"
          ]
        }
      ],
      "source": [
        "# Curso em Vídeo de Python - Professor Gustavo Guanabara\n",
        "# Aluno: Anderson Costa\n",
        "\n",
        "# Desafio 006: Crie um algoritmo que leia um número e mostre o seu dobro, triplo e raiz quadrada.\n",
        "\n",
        "num = float(input('Digite um número: '))\n",
        "print(f'O dobro é {2*num:.2f}, o triplo é {3*num:.2f} e a raiz quadrada é {num**(1/2):.2f}.')"
      ]
    }
  ]
}