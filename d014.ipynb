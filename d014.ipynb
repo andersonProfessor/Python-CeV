{
  "nbformat": 4,
  "nbformat_minor": 0,
  "metadata": {
    "colab": {
      "name": "d014",
      "provenance": [],
      "authorship_tag": "ABX9TyO84Mae0SYtADE4jYUc2e/F",
      "include_colab_link": true
    },
    "kernelspec": {
      "name": "python3",
      "display_name": "Python 3"
    },
    "language_info": {
      "name": "python"
    }
  },
  "cells": [
    {
      "cell_type": "markdown",
      "metadata": {
        "id": "view-in-github",
        "colab_type": "text"
      },
      "source": [
        "<a href=\"https://colab.research.google.com/github/andersonProfessor/Python-CeV/blob/main/d014.ipynb\" target=\"_parent\"><img src=\"https://colab.research.google.com/assets/colab-badge.svg\" alt=\"Open In Colab\"/></a>"
      ]
    },
    {
      "cell_type": "code",
      "execution_count": 6,
      "metadata": {
        "colab": {
          "base_uri": "https://localhost:8080/"
        },
        "id": "lE9J3rhVmKDX",
        "outputId": "f2df031b-b096-460e-9adb-e3fbd2124bd6"
      },
      "outputs": [
        {
          "output_type": "stream",
          "name": "stdout",
          "text": [
            "Informa a temperatura em °C? 100\n",
            "A temperatura de 100.0 °C(Celsius) corresponde a 212.0 °F(Fahrenheit) ou 373.15 K(Kelvin).\n"
          ]
        }
      ],
      "source": [
        "# Curso em Vídeo de Python - Professor Gustavo Guanabara\n",
        "# Aluno: Anderson Costa\n",
        "\n",
        "# Desafio 014: Escreva um programa que converta uma temperatura digitada em °C e converta para °F.\n",
        "\n",
        "tC = float(input('Informa a temperatura em °C? '))\n",
        "tF = (tC*9)/5 + 32\n",
        "tK = tC + 273.15\n",
        "print(f'A temperatura de {tC:.1f} °C(Celsius) corresponde a {tF:.1f} °F(Fahrenheit) ou {tK:.2f} K(Kelvin).')"
      ]
    }
  ]
}