{
  "nbformat": 4,
  "nbformat_minor": 0,
  "metadata": {
    "colab": {
      "name": "d033",
      "provenance": [],
      "authorship_tag": "ABX9TyOlD+6931ql8vVfpRScfOWx",
      "include_colab_link": true
    },
    "kernelspec": {
      "name": "python3",
      "display_name": "Python 3"
    },
    "language_info": {
      "name": "python"
    }
  },
  "cells": [
    {
      "cell_type": "markdown",
      "metadata": {
        "id": "view-in-github",
        "colab_type": "text"
      },
      "source": [
        "<a href=\"https://colab.research.google.com/github/andersonProfessor/Python-CeV/blob/main/d033.ipynb\" target=\"_parent\"><img src=\"https://colab.research.google.com/assets/colab-badge.svg\" alt=\"Open In Colab\"/></a>"
      ]
    },
    {
      "cell_type": "code",
      "execution_count": 7,
      "metadata": {
        "colab": {
          "base_uri": "https://localhost:8080/"
        },
        "id": "D3DOrhxTVzlb",
        "outputId": "d7d6d69d-a2c2-493f-94c6-66aade786d39"
      },
      "outputs": [
        {
          "output_type": "stream",
          "name": "stdout",
          "text": [
            "Primeiro número: 152\n",
            "Segundo número:  45\n",
            "Terceiro número: 109\n",
            "\n",
            "O MAIOR número é 152 e o MENOR é 45.\n"
          ]
        }
      ],
      "source": [
        "# Curso em Vídeo de Python - Professor Gustavo Guanabara\n",
        "# Aluno: Anderson Costa\n",
        "\n",
        "# Desafio 033: Faça um programa que leia três números e mostre qual é o MAIOR e o MENOR.\n",
        "\n",
        "n1 = int(input('Primeiro número: '))\n",
        "n2 = int(input('Segundo número:  '))\n",
        "n3 = int(input('Terceiro número: '))\n",
        "\n",
        "M = n1  # MAIOR\n",
        "m = n1  # MENOR\n",
        "\n",
        "# Descobrindo o MAIOR\n",
        "if (M < n2):\n",
        "  M = n2\n",
        "if (M < n3):\n",
        "  M = n3\n",
        "\n",
        "# Descobrindo o MENOR\n",
        "if (m > n2):\n",
        "  m = n2\n",
        "if (m > n3):\n",
        "  m = n3\n",
        "\n",
        "print(f'\\nO MAIOR número é {M} e o MENOR é {m}.')"
      ]
    }
  ]
}