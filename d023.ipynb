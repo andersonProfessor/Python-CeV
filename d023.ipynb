{
  "nbformat": 4,
  "nbformat_minor": 0,
  "metadata": {
    "colab": {
      "name": "d023.ipynb",
      "provenance": [],
      "authorship_tag": "ABX9TyNwUxNIXejOKSVp/Lop+xnj",
      "include_colab_link": true
    },
    "kernelspec": {
      "name": "python3",
      "display_name": "Python 3"
    },
    "language_info": {
      "name": "python"
    }
  },
  "cells": [
    {
      "cell_type": "markdown",
      "metadata": {
        "id": "view-in-github",
        "colab_type": "text"
      },
      "source": [
        "<a href=\"https://colab.research.google.com/github/andersonProfessor/Python-CeV/blob/main/d023.ipynb\" target=\"_parent\"><img src=\"https://colab.research.google.com/assets/colab-badge.svg\" alt=\"Open In Colab\"/></a>"
      ]
    },
    {
      "cell_type": "code",
      "execution_count": 22,
      "metadata": {
        "colab": {
          "base_uri": "https://localhost:8080/"
        },
        "id": "R_Z7bSE5qw-o",
        "outputId": "5f26921d-bed8-46cf-d8c5-92e263c354dd"
      },
      "outputs": [
        {
          "output_type": "stream",
          "name": "stdout",
          "text": [
            "Digite um número de 0 à 9999: 4523\n",
            "Unidades: 3\n",
            "Dezenas:  2\n",
            "Centenas: 5\n",
            "Milhares: 4\n"
          ]
        }
      ],
      "source": [
        "# Curso em Vídeo de Python - Professor Gustavo Guanabara\n",
        "# Aluno: Anderson Costa\n",
        "\n",
        "# Desafio 023: Faça um programa que leia um número de 0 à 9999 e mostre na tela cada\n",
        "# um dos seus dígitos separados. Unidade: Dezena: Centena: Milhar:\n",
        "\n",
        "n = int(input('Digite um número de 0 à 9999: '))\n",
        "\n",
        "U = (n // 1) % 10\n",
        "D = (n // 10) % 10\n",
        "C = (n // 100) % 10\n",
        "M = (n // 1000) % 10\n",
        "\n",
        "print(f'Unidades: {U}')\n",
        "print(f'Dezenas:  {D}')\n",
        "print(f'Centenas: {C}')\n",
        "print(f'Milhares: {M}')"
      ]
    }
  ]
}