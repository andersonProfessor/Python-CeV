{
  "nbformat": 4,
  "nbformat_minor": 0,
  "metadata": {
    "colab": {
      "name": "d003",
      "provenance": [],
      "authorship_tag": "ABX9TyNcLQzFP0gKkOqcir8PECZe",
      "include_colab_link": true
    },
    "kernelspec": {
      "name": "python3",
      "display_name": "Python 3"
    },
    "language_info": {
      "name": "python"
    }
  },
  "cells": [
    {
      "cell_type": "markdown",
      "metadata": {
        "id": "view-in-github",
        "colab_type": "text"
      },
      "source": [
        "<a href=\"https://colab.research.google.com/github/andersonProfessor/Python-CeV/blob/main/d003.ipynb\" target=\"_parent\"><img src=\"https://colab.research.google.com/assets/colab-badge.svg\" alt=\"Open In Colab\"/></a>"
      ]
    },
    {
      "cell_type": "code",
      "execution_count": 3,
      "metadata": {
        "colab": {
          "base_uri": "https://localhost:8080/"
        },
        "id": "1arNJ1pou3gW",
        "outputId": "2077c2ac-bb78-4bb6-f453-a3b880b4f829"
      },
      "outputs": [
        {
          "output_type": "stream",
          "name": "stdout",
          "text": [
            "Primeiro número: 14\n",
            "Segundo número: 7\n",
            "A soma de 14 com 7 é igual a 21.\n"
          ]
        }
      ],
      "source": [
        "# Curso em Vídeo de Python - Professor Gustavo Guanabara\n",
        "# Aluno: Anderson Costa\n",
        "\n",
        "# Desafio 003: Crie um script Python que leia dois números e tente mostrar a soma entre eles.\n",
        "\n",
        "num1 = int(input('Primeiro número: '))\n",
        "num2 = int(input('Segundo número: '))\n",
        "print('A soma de {} com {} é igual a {}.'.format(num1, num2, num1+num2))"
      ]
    }
  ]
}