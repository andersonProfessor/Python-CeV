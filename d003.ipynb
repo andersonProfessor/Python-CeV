{
  "nbformat": 4,
  "nbformat_minor": 0,
  "metadata": {
    "colab": {
      "name": "d003",
      "provenance": [],
      "authorship_tag": "ABX9TyN1pR1lUHhpgqFQ3xQEyEf6",
      "include_colab_link": true
    },
    "kernelspec": {
      "name": "python3",
      "display_name": "Python 3"
    },
    "language_info": {
      "name": "python"
    }
  },
  "cells": [
    {
      "cell_type": "markdown",
      "metadata": {
        "id": "view-in-github",
        "colab_type": "text"
      },
      "source": [
        "<a href=\"https://colab.research.google.com/github/andersonProfessor/Python-CeV/blob/main/d003.ipynb\" target=\"_parent\"><img src=\"https://colab.research.google.com/assets/colab-badge.svg\" alt=\"Open In Colab\"/></a>"
      ]
    },
    {
      "cell_type": "code",
      "execution_count": 2,
      "metadata": {
        "colab": {
          "base_uri": "https://localhost:8080/"
        },
        "id": "1arNJ1pou3gW",
        "outputId": "bd1d08be-ce48-45b3-e13b-4d7c8c7f314d"
      },
      "outputs": [
        {
          "output_type": "stream",
          "name": "stdout",
          "text": [
            "Primeiro número: 37\n",
            "Segundo número: 49\n",
            "A soma de 37 e 49 é igual a 86\n"
          ]
        }
      ],
      "source": [
        "# Curso em Vídeo de Python - Professor Gustavo Guanabara\n",
        "# Aluno: Anderson Costa\n",
        "\n",
        "# Desafio 003: Crie um script Python que leia dois números e tente mostrar a soma entre eles.\n",
        "\n",
        "num1 = input('Primeiro número: ')\n",
        "num2 = input('Segundo número: ')\n",
        "print('A soma de ' + num1 + ' e ' + num2 + ' é igual a ' + str(int(num1) + int(num2)))"
      ]
    }
  ]
}