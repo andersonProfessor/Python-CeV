{
  "nbformat": 4,
  "nbformat_minor": 0,
  "metadata": {
    "colab": {
      "name": "d020",
      "provenance": [],
      "authorship_tag": "ABX9TyNsQfSp50yp9WxongENVrNl",
      "include_colab_link": true
    },
    "kernelspec": {
      "name": "python3",
      "display_name": "Python 3"
    },
    "language_info": {
      "name": "python"
    }
  },
  "cells": [
    {
      "cell_type": "markdown",
      "metadata": {
        "id": "view-in-github",
        "colab_type": "text"
      },
      "source": [
        "<a href=\"https://colab.research.google.com/github/andersonProfessor/Python-CeV/blob/main/d020.ipynb\" target=\"_parent\"><img src=\"https://colab.research.google.com/assets/colab-badge.svg\" alt=\"Open In Colab\"/></a>"
      ]
    },
    {
      "cell_type": "code",
      "execution_count": 8,
      "metadata": {
        "colab": {
          "base_uri": "https://localhost:8080/"
        },
        "id": "sFlk_E_GoTnz",
        "outputId": "6abb40c6-c6ef-47b0-8ab5-bb3b31a53f90"
      },
      "outputs": [
        {
          "output_type": "stream",
          "name": "stdout",
          "text": [
            "Primeiro Aluno: Pedro\n",
            "Segundo Aluno: Paulo\n",
            "Terceiro Aluno: Maria\n",
            "Quarto Aluno: Carlos\n",
            "\n",
            "A ordem de apresentação do trabalho é: ['Paulo', 'Carlos', 'Pedro', 'Maria'].\n"
          ]
        }
      ],
      "source": [
        "# Curso em Vídeo de Python - Professor Gustavo Guanabara\n",
        "# Aluno: Anderson Costa\n",
        "\n",
        "# Desafio 020: O mesmo professor do desafio anterior quer sortear a ordem de apresentação de trabalhos\n",
        "# dos alunos. Faça um programa que leia o nome dos quatro alunos e mostre a ordem sorteada.\n",
        "\n",
        "from random import shuffle\n",
        "\n",
        "p1 = input('Primeiro Aluno: ')\n",
        "p2 = input('Segundo Aluno: ')\n",
        "p3 = input('Terceiro Aluno: ')\n",
        "p4 = input('Quarto Aluno: ')\n",
        "\n",
        "lista = [p1, p2, p3, p4]\n",
        "shuffle(lista)\n",
        "\n",
        "print(f'\\nA ordem de apresentação do trabalho é: {lista}.')"
      ]
    }
  ]
}