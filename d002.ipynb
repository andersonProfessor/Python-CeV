{
  "nbformat": 4,
  "nbformat_minor": 0,
  "metadata": {
    "colab": {
      "name": "d002",
      "provenance": [],
      "authorship_tag": "ABX9TyP3wcaiymGfbJOtyNbwV65E",
      "include_colab_link": true
    },
    "kernelspec": {
      "name": "python3",
      "display_name": "Python 3"
    },
    "language_info": {
      "name": "python"
    }
  },
  "cells": [
    {
      "cell_type": "markdown",
      "metadata": {
        "id": "view-in-github",
        "colab_type": "text"
      },
      "source": [
        "<a href=\"https://colab.research.google.com/github/andersonProfessor/Python-CeV/blob/main/d002.ipynb\" target=\"_parent\"><img src=\"https://colab.research.google.com/assets/colab-badge.svg\" alt=\"Open In Colab\"/></a>"
      ]
    },
    {
      "cell_type": "code",
      "execution_count": 3,
      "metadata": {
        "colab": {
          "base_uri": "https://localhost:8080/"
        },
        "id": "7pxlsNSesxLS",
        "outputId": "87747e73-ef75-44a7-97e1-b746a32799ac"
      },
      "outputs": [
        {
          "output_type": "stream",
          "name": "stdout",
          "text": [
            "Nome: Jéssica\n",
            "Dia: 5\n",
            "Mês: Agosto\n",
            "Ano: 1998\n",
            "Oi Jéssica! Você nasceu no dia 5 de Agosto de 1998. Correto?\n"
          ]
        }
      ],
      "source": [
        "# Curso em Vídeo de Python - Professor Gustavo Guanabara\n",
        "# Aluno: Anderson Costa\n",
        "\n",
        "# Desafio 002: Crie um script Python que leia o dia, o mês e o ano de nascimento de uma pessoa e mostre uma mensagem com a data formatada.\n",
        "\n",
        "nome = input('Nome: ')\n",
        "dia = input('Dia: ')\n",
        "mes = input('Mês: ')\n",
        "ano = input('Ano: ')\n",
        "print('Oi ' + nome + '! Você nasceu no dia ' + dia + ' de ' + mes + ' de ' + ano + '. Correto?')"
      ]
    }
  ]
}