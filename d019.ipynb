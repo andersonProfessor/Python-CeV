{
  "nbformat": 4,
  "nbformat_minor": 0,
  "metadata": {
    "colab": {
      "name": "d019",
      "provenance": [],
      "authorship_tag": "ABX9TyOZ67IvICkvM9eizsUXVFO5",
      "include_colab_link": true
    },
    "kernelspec": {
      "name": "python3",
      "display_name": "Python 3"
    },
    "language_info": {
      "name": "python"
    }
  },
  "cells": [
    {
      "cell_type": "markdown",
      "metadata": {
        "id": "view-in-github",
        "colab_type": "text"
      },
      "source": [
        "<a href=\"https://colab.research.google.com/github/andersonProfessor/Python-CeV/blob/main/d019.ipynb\" target=\"_parent\"><img src=\"https://colab.research.google.com/assets/colab-badge.svg\" alt=\"Open In Colab\"/></a>"
      ]
    },
    {
      "cell_type": "code",
      "execution_count": 4,
      "metadata": {
        "colab": {
          "base_uri": "https://localhost:8080/"
        },
        "id": "bM8MrfWVliAb",
        "outputId": "72d46489-eccc-482b-a6c8-183f24bfe8ce"
      },
      "outputs": [
        {
          "output_type": "stream",
          "name": "stdout",
          "text": [
            "Primeiro Aluno: Paulo\n",
            "Segundo Aluno: Maria\n",
            "Terceiro Aluno: Carlos\n",
            "Quarto Aluno: Pedro\n",
            "\n",
            "O aluno sorteado para apagar o quadro foi: Pedro\n"
          ]
        }
      ],
      "source": [
        "# Curso em Vídeo de Python - Professor Gustavo Guanabara\n",
        "# Aluno: Anderson Costa\n",
        "\n",
        "# Desafio 019: Um professor quer sortear um dos seus quatro alunos para apagar o quadro.\n",
        "# Faça um programa que ajude ele, lendo o nome deles e escrevendo o nome do escolhido.\n",
        "\n",
        "from random import choice\n",
        "\n",
        "p1 = input('Primeiro Aluno: ')\n",
        "p2 = input('Segundo Aluno: ')\n",
        "p3 = input('Terceiro Aluno: ')\n",
        "p4 = input('Quarto Aluno: ')\n",
        "\n",
        "print(f'\\nO aluno sorteado para apagar o quadro foi: {choice([p1, p2, p3, p4])}')"
      ]
    }
  ]
}