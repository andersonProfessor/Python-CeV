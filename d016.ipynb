{
  "nbformat": 4,
  "nbformat_minor": 0,
  "metadata": {
    "colab": {
      "name": "d016",
      "provenance": [],
      "authorship_tag": "ABX9TyM1PuCix134kETdELEYagCn",
      "include_colab_link": true
    },
    "kernelspec": {
      "name": "python3",
      "display_name": "Python 3"
    },
    "language_info": {
      "name": "python"
    }
  },
  "cells": [
    {
      "cell_type": "markdown",
      "metadata": {
        "id": "view-in-github",
        "colab_type": "text"
      },
      "source": [
        "<a href=\"https://colab.research.google.com/github/andersonProfessor/Python-CeV/blob/main/d016.ipynb\" target=\"_parent\"><img src=\"https://colab.research.google.com/assets/colab-badge.svg\" alt=\"Open In Colab\"/></a>"
      ]
    },
    {
      "cell_type": "code",
      "execution_count": 2,
      "metadata": {
        "colab": {
          "base_uri": "https://localhost:8080/"
        },
        "id": "woIWjTUyR54P",
        "outputId": "68a175bc-0e50-40da-f77e-52faecab580e"
      },
      "outputs": [
        {
          "output_type": "stream",
          "name": "stdout",
          "text": [
            "Digite um número real qualquer: 6.127\n",
            "A porção inteira desse número é 6.\n"
          ]
        }
      ],
      "source": [
        "# Curso em Vídeo de Python - Professor Gustavo Guanabara\n",
        "# Aluno: Anderson Costa\n",
        "\n",
        "# Desafio 016: Crie um programa que leia um número real qualquer pelo teclado e mostre na tela a sua porção inteira.\n",
        "\n",
        "from math import floor\n",
        "\n",
        "num = float(input('Digite um número real qualquer: '))\n",
        "print(f'A porção inteira desse número é {int(floor(num))}.')"
      ]
    }
  ]
}