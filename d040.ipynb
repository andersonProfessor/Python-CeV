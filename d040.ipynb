{
  "nbformat": 4,
  "nbformat_minor": 0,
  "metadata": {
    "colab": {
      "name": "d040",
      "provenance": [],
      "authorship_tag": "ABX9TyN9I6hMTFAhNwbDTDFmIke9",
      "include_colab_link": true
    },
    "kernelspec": {
      "name": "python3",
      "display_name": "Python 3"
    },
    "language_info": {
      "name": "python"
    }
  },
  "cells": [
    {
      "cell_type": "markdown",
      "metadata": {
        "id": "view-in-github",
        "colab_type": "text"
      },
      "source": [
        "<a href=\"https://colab.research.google.com/github/andersonProfessor/Python-CeV/blob/main/d040.ipynb\" target=\"_parent\"><img src=\"https://colab.research.google.com/assets/colab-badge.svg\" alt=\"Open In Colab\"/></a>"
      ]
    },
    {
      "cell_type": "code",
      "execution_count": 7,
      "metadata": {
        "colab": {
          "base_uri": "https://localhost:8080/"
        },
        "id": "D2p8gwYHYO5_",
        "outputId": "b93eb026-e442-4bb1-f7fe-655e8112f50a"
      },
      "outputs": [
        {
          "output_type": "stream",
          "name": "stdout",
          "text": [
            "Primeira nota: 6.5\n",
            "Segunda nota: 8\n",
            "\n",
            "Média 7.2 \n",
            "Aluno APROVADO!!!\n"
          ]
        }
      ],
      "source": [
        "# Curso em Vídeo de Python - Professor Gustavo Guanabara\n",
        "# Aluno: Anderson Costa\n",
        "\n",
        "# Desafio 040: Crie um programa que leia duas notas de um aluno e calcule sua média,\n",
        "# mostrando uma mensagem no final, de acordo com a média atingida:\n",
        "# - Média abaixo de 5.0: REPROVADO\n",
        "# - Média entre 5.0 e 6.9: RECUPERAÇÃO\n",
        "# - Média 7.0 ou superior: APROVADO\n",
        "\n",
        "n1 = float(input('Primeira nota: '))\n",
        "n2 = float(input('Segunda nota: '))\n",
        "\n",
        "md = (n1 + n2)/2\n",
        "\n",
        "if md < 5.0:\n",
        "  print(f'\\nMédia {md:.1f} \\nAluno REPROVADO!!!')\n",
        "elif md >= 5.0 and md <= 6.9:\n",
        "  print(f'\\nMédia {md:.1f} \\nAluno de RECUPERAÇÃO!!!')\n",
        "else:\n",
        "  print(f'\\nMédia {md:.1f} \\nAluno APROVADO!!!')"
      ]
    }
  ]
}