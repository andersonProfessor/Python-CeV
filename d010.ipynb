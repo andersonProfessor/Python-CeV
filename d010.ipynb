{
  "nbformat": 4,
  "nbformat_minor": 0,
  "metadata": {
    "colab": {
      "name": "d010",
      "provenance": [],
      "authorship_tag": "ABX9TyPTsVOq/QvviFkL9vg6VL9o",
      "include_colab_link": true
    },
    "kernelspec": {
      "name": "python3",
      "display_name": "Python 3"
    },
    "language_info": {
      "name": "python"
    }
  },
  "cells": [
    {
      "cell_type": "markdown",
      "metadata": {
        "id": "view-in-github",
        "colab_type": "text"
      },
      "source": [
        "<a href=\"https://colab.research.google.com/github/andersonProfessor/Python-CeV/blob/main/d010.ipynb\" target=\"_parent\"><img src=\"https://colab.research.google.com/assets/colab-badge.svg\" alt=\"Open In Colab\"/></a>"
      ]
    },
    {
      "cell_type": "code",
      "execution_count": 4,
      "metadata": {
        "colab": {
          "base_uri": "https://localhost:8080/"
        },
        "id": "R8PlK3tdvgFg",
        "outputId": "87ce2e90-3230-4b90-b5b2-85775a7eeb0e"
      },
      "outputs": [
        {
          "output_type": "stream",
          "name": "stdout",
          "text": [
            "Quanto dinheiro você tem na carteira? R$ 20\n",
            "Com R$ 20.00 você consegue comprar US$ 3.81.\n"
          ]
        }
      ],
      "source": [
        "# Curso em Vídeo de Python - Professor Gustavo Guanabara\n",
        "# Aluno: Anderson Costa\n",
        "\n",
        "# Desafio 010: Crie um programa que leia quanto dinheiro uma pessoa tem na carteira e mostre quantos dólares ela pode comprar.\n",
        "# Considere US$ 1,00 = R$ 5,25.\n",
        "\n",
        "real = float(input('Quanto dinheiro você tem na carteira? R$ '))\n",
        "print(f'Com R$ {real:.2f} você consegue comprar US$ {real/5.25:.2f}.')"
      ]
    }
  ]
}