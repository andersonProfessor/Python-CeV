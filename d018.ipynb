{
  "nbformat": 4,
  "nbformat_minor": 0,
  "metadata": {
    "colab": {
      "name": "d018",
      "provenance": [],
      "authorship_tag": "ABX9TyMJ6es0HAzkNsxYim36xYTO",
      "include_colab_link": true
    },
    "kernelspec": {
      "name": "python3",
      "display_name": "Python 3"
    },
    "language_info": {
      "name": "python"
    }
  },
  "cells": [
    {
      "cell_type": "markdown",
      "metadata": {
        "id": "view-in-github",
        "colab_type": "text"
      },
      "source": [
        "<a href=\"https://colab.research.google.com/github/andersonProfessor/Python-CeV/blob/main/d018.ipynb\" target=\"_parent\"><img src=\"https://colab.research.google.com/assets/colab-badge.svg\" alt=\"Open In Colab\"/></a>"
      ]
    },
    {
      "cell_type": "code",
      "execution_count": 8,
      "metadata": {
        "colab": {
          "base_uri": "https://localhost:8080/"
        },
        "id": "v1nMzF1ihpPt",
        "outputId": "23f15b0a-93bb-4289-9641-9247ded309fc"
      },
      "outputs": [
        {
          "output_type": "stream",
          "name": "stdout",
          "text": [
            "Insira um ângulo qualquer: 30\n",
            "O seno de 30° é 0.50.\n",
            "O cosseno de 30° é 0.87.\n",
            "A tangente de 30° é 0.58.\n"
          ]
        }
      ],
      "source": [
        "# Curso em Vídeo de Python - Professor Gustavo Guanabara\n",
        "# Aluno: Anderson Costa\n",
        "\n",
        "# Desafio 018: Faça um programa que leia um ângulo qualquer e mostre na tela o valor do seno, cosseno e tangente.\n",
        "\n",
        "from math import sin, cos, tan, radians\n",
        "\n",
        "theta = int(input('Insira um ângulo qualquer: '))\n",
        "print(f'O seno de {theta}° é {sin(radians(theta)):.2f}.')\n",
        "print(f'O cosseno de {theta}° é {cos(radians(theta)):.2f}.')\n",
        "print(f'A tangente de {theta}° é {tan(radians(theta)):.2f}.')"
      ]
    }
  ]
}