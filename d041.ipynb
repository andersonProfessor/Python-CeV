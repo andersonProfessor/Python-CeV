{
  "nbformat": 4,
  "nbformat_minor": 0,
  "metadata": {
    "colab": {
      "name": "d041",
      "provenance": [],
      "authorship_tag": "ABX9TyP9ETswHjBXwv/Qk8EI8iI8",
      "include_colab_link": true
    },
    "kernelspec": {
      "name": "python3",
      "display_name": "Python 3"
    },
    "language_info": {
      "name": "python"
    }
  },
  "cells": [
    {
      "cell_type": "markdown",
      "metadata": {
        "id": "view-in-github",
        "colab_type": "text"
      },
      "source": [
        "<a href=\"https://colab.research.google.com/github/andersonProfessor/Python-CeV/blob/main/d041.ipynb\" target=\"_parent\"><img src=\"https://colab.research.google.com/assets/colab-badge.svg\" alt=\"Open In Colab\"/></a>"
      ]
    },
    {
      "cell_type": "code",
      "execution_count": 7,
      "metadata": {
        "colab": {
          "base_uri": "https://localhost:8080/"
        },
        "id": "YjqaZXfqaYcf",
        "outputId": "fec17ef0-b48a-42d1-86be-0795e842fb98"
      },
      "outputs": [
        {
          "output_type": "stream",
          "name": "stdout",
          "text": [
            "Ano de Nascimento: 1994\n",
            "\n",
            "Com 28 anos. Categoria MASTER.\n"
          ]
        }
      ],
      "source": [
        "# Curso em Vídeo de Python - Professor Gustavo Guanabara\n",
        "# Aluno: Anderson Costa\n",
        "\n",
        "# Desafio 041: A confederação nacional de natação precisa de um programa que\n",
        "# leia o ano de nascimento de um atleta e mostre sua categoria:\n",
        "# - Até 9 anos: MIRIM\n",
        "# - Até 14 anos: INFANTIL\n",
        "# - Até 19 anos: JÚNIOR\n",
        "# - Até 20 anos: SÊNIOR\n",
        "# - Acima de 20 anos: MASTER\n",
        "\n",
        "from datetime import date\n",
        "\n",
        "ano_atual = date.today().year\n",
        "\n",
        "ano_nasc = int(input('Ano de Nascimento: '))\n",
        "\n",
        "idade = ano_atual - ano_nasc\n",
        "\n",
        "if idade <= 9:\n",
        "  print(f'\\nCom {idade} anos. Categoria MIRIM.')\n",
        "elif idade > 9 and idade <= 14:\n",
        "  print(f'\\nCom {idade} anos. Categoria INFANTIL.')\n",
        "elif idade > 14 and idade <= 19:\n",
        "  print(f'\\nCom {idade} anos. Categoria JÚNIOR.')\n",
        "elif idade == 20:\n",
        "  print(f'\\nCom {idade} anos. Categoria SÊNIOR.')\n",
        "else:\n",
        "  print(f'\\nCom {idade} anos. Categoria MASTER.')"
      ]
    }
  ]
}