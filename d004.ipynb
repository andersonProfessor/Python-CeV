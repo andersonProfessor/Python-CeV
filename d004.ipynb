{
  "nbformat": 4,
  "nbformat_minor": 0,
  "metadata": {
    "colab": {
      "name": "d004",
      "provenance": [],
      "authorship_tag": "ABX9TyMhFc7udXHukvjkEPyVKGpk",
      "include_colab_link": true
    },
    "kernelspec": {
      "name": "python3",
      "display_name": "Python 3"
    },
    "language_info": {
      "name": "python"
    }
  },
  "cells": [
    {
      "cell_type": "markdown",
      "metadata": {
        "id": "view-in-github",
        "colab_type": "text"
      },
      "source": [
        "<a href=\"https://colab.research.google.com/github/andersonProfessor/Python-CeV/blob/main/d004.ipynb\" target=\"_parent\"><img src=\"https://colab.research.google.com/assets/colab-badge.svg\" alt=\"Open In Colab\"/></a>"
      ]
    },
    {
      "cell_type": "code",
      "execution_count": 10,
      "metadata": {
        "colab": {
          "base_uri": "https://localhost:8080/"
        },
        "id": "xBtkPFYo483V",
        "outputId": "d5388335-6114-4e6b-9727-b3ec2727b1bc"
      },
      "outputs": [
        {
          "output_type": "stream",
          "name": "stdout",
          "text": [
            "Digite algo no teclado: 75\n",
            "O tipo primitivo é <class 'str'>\n",
            "Você digitou algo numérico? True\n",
            "Você digitou algo alfabético? False\n",
            "Você digitou algo alfanumérico? True\n",
            "Você digitou tudo em MAIÚSCULO? False\n",
            "Você digitou tudo em minúsculo? False\n"
          ]
        }
      ],
      "source": [
        "# Curso em Vídeo de Python - Professor Gustavo Guanabara\n",
        "# Aluno: Anderson Costa\n",
        "\n",
        "# Desafio 004: Faça um programa que leia algo pelo teclado e mostre na tela o seu tipo primitivo e todas as informações possíveis sobre ele.\n",
        "\n",
        "var = input('Digite algo no teclado: ')\n",
        "print('O tipo primitivo é {}'.format(type(var)))\n",
        "print('Você digitou algo numérico? {}'.format(var.isnumeric()))\n",
        "print('Você digitou algo alfabético? {}'.format(var.isalpha()))\n",
        "print('Você digitou algo alfanumérico? {}'.format(var.isalnum()))\n",
        "print('Você digitou tudo em MAIÚSCULO? {}'.format(var.isupper()))\n",
        "print('Você digitou tudo em minúsculo? {}'.format(var.islower()))"
      ]
    }
  ]
}