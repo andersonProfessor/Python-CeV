{
  "nbformat": 4,
  "nbformat_minor": 0,
  "metadata": {
    "colab": {
      "name": "d028",
      "provenance": [],
      "authorship_tag": "ABX9TyPT4TmYFErdhNZo3HaBL77W",
      "include_colab_link": true
    },
    "kernelspec": {
      "name": "python3",
      "display_name": "Python 3"
    },
    "language_info": {
      "name": "python"
    }
  },
  "cells": [
    {
      "cell_type": "markdown",
      "metadata": {
        "id": "view-in-github",
        "colab_type": "text"
      },
      "source": [
        "<a href=\"https://colab.research.google.com/github/andersonProfessor/Python-CeV/blob/main/d028.ipynb\" target=\"_parent\"><img src=\"https://colab.research.google.com/assets/colab-badge.svg\" alt=\"Open In Colab\"/></a>"
      ]
    },
    {
      "cell_type": "code",
      "execution_count": 7,
      "metadata": {
        "colab": {
          "base_uri": "https://localhost:8080/"
        },
        "id": "vuQs2V_DUqph",
        "outputId": "af770fa4-a81a-4761-d213-93b5b579b6a7"
      },
      "outputs": [
        {
          "output_type": "stream",
          "name": "stdout",
          "text": [
            "Tente acertar o número que estou pensando: 4\n",
            "\n",
            "Que pena, você perdeu!!! O número que pensei foi o 5.\n"
          ]
        }
      ],
      "source": [
        "# Curso em Vídeo de Python - Professor Gustavo Guanabara\n",
        "# Aluno: Anderson Costa\n",
        "\n",
        "# Desafio 029: Escreva um programa que faça o computador pensar em\n",
        "# um número inteiro entre 0 e 5 e peça para o usuário tentar descobrir\n",
        "# qual foi o número escolhido pelo computador. O programa deverá escrever\n",
        "# na tela se o usuário venceu ou perdeu.\n",
        "\n",
        "from random import randint\n",
        "\n",
        "cpu = randint(0,5)\n",
        "user = int(input('Tente acertar o número que estou pensando: '))\n",
        "\n",
        "if user == cpu:\n",
        "  print(f'\\nParabéns, você venceu!!! O número que pensei foi o {cpu}.')\n",
        "else:\n",
        "  print(f'\\nQue pena, você perdeu!!! O número que pensei foi o {cpu}.')"
      ]
    }
  ]
}