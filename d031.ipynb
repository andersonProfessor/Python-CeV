{
  "nbformat": 4,
  "nbformat_minor": 0,
  "metadata": {
    "colab": {
      "name": "d031",
      "provenance": [],
      "authorship_tag": "ABX9TyNTz3aKeI78f4ajK0LVlctg",
      "include_colab_link": true
    },
    "kernelspec": {
      "name": "python3",
      "display_name": "Python 3"
    },
    "language_info": {
      "name": "python"
    }
  },
  "cells": [
    {
      "cell_type": "markdown",
      "metadata": {
        "id": "view-in-github",
        "colab_type": "text"
      },
      "source": [
        "<a href=\"https://colab.research.google.com/github/andersonProfessor/Python-CeV/blob/main/d031.ipynb\" target=\"_parent\"><img src=\"https://colab.research.google.com/assets/colab-badge.svg\" alt=\"Open In Colab\"/></a>"
      ]
    },
    {
      "cell_type": "code",
      "execution_count": 3,
      "metadata": {
        "colab": {
          "base_uri": "https://localhost:8080/"
        },
        "id": "SGdpIBI8fAQ1",
        "outputId": "f7240b48-790e-4e3a-aa30-f382a2b3bcf0"
      },
      "outputs": [
        {
          "output_type": "stream",
          "name": "stdout",
          "text": [
            "Distância da Viagem (Km): 145\n",
            "\n",
            "O preço da viagem é R$ 65.25.\n"
          ]
        }
      ],
      "source": [
        "# Curso em Vídeo de Python - Professor Gustavo Guanabara\n",
        "# Aluno: Anderson Costa\n",
        "\n",
        "# Desafio 031: Desenvolva um programa que pergunte a distância de uma viagem\n",
        "# em Km. Calcule o preço da passagem, cobrando R$ 0,50 por Km para viagens até\n",
        "# 200 Km e R$ 0,45 para viagens mais longas.\n",
        "\n",
        "dist = float(input('Distância da Viagem (Km): '))\n",
        "\n",
        "if dist >= 200.0:\n",
        "  print(f'\\nO preço da viagem é R$ {dist*0.50:.2f}.')\n",
        "else:\n",
        "  print(f'\\nO preço da viagem é R$ {dist*0.45:.2f}.')"
      ]
    }
  ]
}