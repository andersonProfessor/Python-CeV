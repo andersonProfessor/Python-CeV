{
  "nbformat": 4,
  "nbformat_minor": 0,
  "metadata": {
    "colab": {
      "name": "d015",
      "provenance": [],
      "authorship_tag": "ABX9TyPCsoon8N4FsGYp5MlT+i0h",
      "include_colab_link": true
    },
    "kernelspec": {
      "name": "python3",
      "display_name": "Python 3"
    },
    "language_info": {
      "name": "python"
    }
  },
  "cells": [
    {
      "cell_type": "markdown",
      "metadata": {
        "id": "view-in-github",
        "colab_type": "text"
      },
      "source": [
        "<a href=\"https://colab.research.google.com/github/andersonProfessor/Python-CeV/blob/main/d015.ipynb\" target=\"_parent\"><img src=\"https://colab.research.google.com/assets/colab-badge.svg\" alt=\"Open In Colab\"/></a>"
      ]
    },
    {
      "cell_type": "code",
      "execution_count": 3,
      "metadata": {
        "colab": {
          "base_uri": "https://localhost:8080/"
        },
        "id": "YRtqZvOTrzVW",
        "outputId": "00553873-bb2e-4f8c-e87d-c16474c2e8d3"
      },
      "outputs": [
        {
          "output_type": "stream",
          "name": "stdout",
          "text": [
            "Por quantos dias o carro foi alugado? 3\n",
            "Quantos quilômetros foram percorridos? 350\n",
            "O preço total do aluguel é R$ 232.50.\n"
          ]
        }
      ],
      "source": [
        "# Curso em Vídeo de Python - Professor Gustavo Guanabara\n",
        "# Aluno: Anderson Costa\n",
        "\n",
        "# Desafio 015: Escreva um programa que pergunte a quantidade de Km percorridos por um carro alugado e a quantidade de dias\n",
        "# pelos quais ele foi alugado. Calcule o preço a pagar, sabendo que o carro custa R$ 60/dia e R$ 0,15/Km.\n",
        "\n",
        "dias = int(input('Por quantos dias o carro foi alugado? '))\n",
        "Km = float(input('Quantos quilômetros foram percorridos? '))\n",
        "preço = 60*dias + 0.15*Km\n",
        "print(f'O preço total do aluguel é R$ {preço:.2f}.')"
      ]
    }
  ]
}