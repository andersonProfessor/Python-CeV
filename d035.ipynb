{
  "nbformat": 4,
  "nbformat_minor": 0,
  "metadata": {
    "colab": {
      "name": "d035",
      "provenance": [],
      "authorship_tag": "ABX9TyMtshKmG1leEg4w2LG7eLzU",
      "include_colab_link": true
    },
    "kernelspec": {
      "name": "python3",
      "display_name": "Python 3"
    },
    "language_info": {
      "name": "python"
    }
  },
  "cells": [
    {
      "cell_type": "markdown",
      "metadata": {
        "id": "view-in-github",
        "colab_type": "text"
      },
      "source": [
        "<a href=\"https://colab.research.google.com/github/andersonProfessor/Python-CeV/blob/main/d035.ipynb\" target=\"_parent\"><img src=\"https://colab.research.google.com/assets/colab-badge.svg\" alt=\"Open In Colab\"/></a>"
      ]
    },
    {
      "cell_type": "code",
      "execution_count": 3,
      "metadata": {
        "colab": {
          "base_uri": "https://localhost:8080/"
        },
        "id": "qmnwE_6nlLzc",
        "outputId": "8c4e5dee-97d3-43db-d7de-7ff8ddeb578a"
      },
      "outputs": [
        {
          "output_type": "stream",
          "name": "stdout",
          "text": [
            "Medida da RETA 1: 3\n",
            "Medida da RETA 2: 4\n",
            "Medida da RETA 3: 5\n",
            "\n",
            "As retas com medidas 3.0cm, 4.0cm e 5.0cm podem formar um triângulo!\n"
          ]
        }
      ],
      "source": [
        "# Curso em Vídeo de Python - Professor Gustavo Guanabara\n",
        "# Aluno: Anderson Costa\n",
        "\n",
        "# Desafio 035: Desenvolva um programa que leia o comprimento de três retas\n",
        "# e diga ao usuário se elas podem ou não formar um triângulo.\n",
        "\n",
        "r1 = float(input('Medida da RETA 1: '))\n",
        "r2 = float(input('Medida da RETA 2: '))\n",
        "r3 = float(input('Medida da RETA 3: '))\n",
        "\n",
        "if (abs(r2-r3) < r1 and r1 < (r2+r3)) and (abs(r1-r3) < r2 and r2 < (r1+r3)) and (abs(r1-r2) < r3 and r3 < (r1+r2)):\n",
        "  print(f'\\nAs retas com medidas {r1}cm, {r2}cm e {r3}cm podem formar um triângulo!')\n",
        "else:\n",
        "  print(f'\\nAs retas com medidas {r1}cm, {r2}cm e {r3}cm NÃO podem formar um triângulo!')"
      ]
    }
  ]
}