{
  "nbformat": 4,
  "nbformat_minor": 0,
  "metadata": {
    "colab": {
      "name": "d029",
      "provenance": [],
      "authorship_tag": "ABX9TyO9LvQH/GySZ3VPGdf4qftZ",
      "include_colab_link": true
    },
    "kernelspec": {
      "name": "python3",
      "display_name": "Python 3"
    },
    "language_info": {
      "name": "python"
    }
  },
  "cells": [
    {
      "cell_type": "markdown",
      "metadata": {
        "id": "view-in-github",
        "colab_type": "text"
      },
      "source": [
        "<a href=\"https://colab.research.google.com/github/andersonProfessor/Python-CeV/blob/main/d029.ipynb\" target=\"_parent\"><img src=\"https://colab.research.google.com/assets/colab-badge.svg\" alt=\"Open In Colab\"/></a>"
      ]
    },
    {
      "cell_type": "code",
      "execution_count": 5,
      "metadata": {
        "colab": {
          "base_uri": "https://localhost:8080/"
        },
        "id": "2rPrldi5bYJD",
        "outputId": "b557c296-c9fc-45e0-fb6c-de9dc55ab2ca"
      },
      "outputs": [
        {
          "output_type": "stream",
          "name": "stdout",
          "text": [
            "Velocidade do Veículo: 92\n",
            "\n",
            "Velocidade acima da permitida!!! Você foi multado em R$ 84.00.\n"
          ]
        }
      ],
      "source": [
        "# Curso em Vídeo de Python - Professor Gustavo Guanabara\n",
        "# Aluno: Anderson Costa\n",
        "\n",
        "# Desafio 029: Escreva um programa que leia a velocidade de um carro. Se ele\n",
        "# ultrapassar 80 Km/h, mostre uma mensagem dizendo que ele foi multado. A multa\n",
        "# vai custar R$ 7,00 por cada Km acima do limite.\n",
        "\n",
        "vel = float(input('Velocidade do Veículo: '))\n",
        "\n",
        "if vel >= 80.0:\n",
        "  print(f'\\nVelocidade acima da permitida!!! Você foi multado em R$ {(vel-80)*7:.2f}.')\n",
        "else:\n",
        "  print(f'\\nDirija com cuidado!!!')"
      ]
    }
  ]
}