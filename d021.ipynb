{
  "nbformat": 4,
  "nbformat_minor": 0,
  "metadata": {
    "colab": {
      "name": "d021",
      "provenance": [],
      "authorship_tag": "ABX9TyP1+fr9CV9YOk8DazxJ6lpg",
      "include_colab_link": true
    },
    "kernelspec": {
      "name": "python3",
      "display_name": "Python 3"
    },
    "language_info": {
      "name": "python"
    }
  },
  "cells": [
    {
      "cell_type": "markdown",
      "metadata": {
        "id": "view-in-github",
        "colab_type": "text"
      },
      "source": [
        "<a href=\"https://colab.research.google.com/github/andersonProfessor/Python-CeV/blob/main/d021.ipynb\" target=\"_parent\"><img src=\"https://colab.research.google.com/assets/colab-badge.svg\" alt=\"Open In Colab\"/></a>"
      ]
    },
    {
      "cell_type": "code",
      "execution_count": null,
      "metadata": {
        "id": "AU-p6u9cseiY"
      },
      "outputs": [],
      "source": [
        "# Curso em Vídeo de Python - Professor Gustavo Guanabara\n",
        "# Aluno: Anderson Costa\n",
        "\n",
        "# Desafio 021: Faça um programa em Python que abra e reproduza o áudio de um arquivo MP3.\n",
        "\n",
        "#from playsound import playsound\n",
        "#playsound('sonic.mp3')\n",
        "\n",
        "from pygame import mixer\n",
        " \n",
        "mixer.init() \n",
        "mixer.music.load(\"sonic.mp3\") \n",
        "mixer.music.set_volume(0.7) \n",
        "mixer.music.play() \n",
        "while True: \n",
        "      \n",
        "    print(\"Press 'p' to pause, 'r' to resume\") \n",
        "    print(\"Press 'e' to exit the program\") \n",
        "    query = input(\"  \") \n",
        "      \n",
        "    if query == 'p': \n",
        "        mixer.music.pause()      \n",
        "    elif query == 'r': \n",
        "        mixer.music.unpause() \n",
        "    elif query == 'e': \n",
        "        mixer.music.stop() \n",
        "        break"
      ]
    }
  ]
}