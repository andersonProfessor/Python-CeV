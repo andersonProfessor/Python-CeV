{
  "nbformat": 4,
  "nbformat_minor": 0,
  "metadata": {
    "colab": {
      "name": "d008",
      "provenance": [],
      "authorship_tag": "ABX9TyO+fTlccV3M3pLAWCkCk/Ww",
      "include_colab_link": true
    },
    "kernelspec": {
      "name": "python3",
      "display_name": "Python 3"
    },
    "language_info": {
      "name": "python"
    }
  },
  "cells": [
    {
      "cell_type": "markdown",
      "metadata": {
        "id": "view-in-github",
        "colab_type": "text"
      },
      "source": [
        "<a href=\"https://colab.research.google.com/github/andersonProfessor/Python-CeV/blob/main/d008.ipynb\" target=\"_parent\"><img src=\"https://colab.research.google.com/assets/colab-badge.svg\" alt=\"Open In Colab\"/></a>"
      ]
    },
    {
      "cell_type": "code",
      "execution_count": 6,
      "metadata": {
        "colab": {
          "base_uri": "https://localhost:8080/"
        },
        "id": "S3TBlMimj0KR",
        "outputId": "877601ae-0532-4aed-af19-b936fb434b8c"
      },
      "outputs": [
        {
          "output_type": "stream",
          "name": "stdout",
          "text": [
            "Insira uma medida em metros(m): 12.45\n",
            "A medida 12.45 m (metros) corresponde a 1245.00 cm (centímetros) e a 12450.00 mm (milímetros).\n"
          ]
        }
      ],
      "source": [
        "# Curso em Vídeo de Python - Professor Gustavo Guanabara\n",
        "# Aluno: Anderso Costa\n",
        "\n",
        "# Desafio 008: Escreva um programa que leia um valor em metros e exiba convertido em centímetros e milímetros.\n",
        "\n",
        "m = float(input('Insira uma medida em metros(m): '))\n",
        "print(f'A medida {m:.2f} m (metros) corresponde a {100*m:.2f} cm (centímetros) e a {1000*m:.2f} mm (milímetros).')"
      ]
    }
  ]
}