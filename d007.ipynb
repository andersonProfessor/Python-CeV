{
  "nbformat": 4,
  "nbformat_minor": 0,
  "metadata": {
    "colab": {
      "name": "d007",
      "provenance": [],
      "authorship_tag": "ABX9TyPX0DOhabnv+XqHCBprfehz",
      "include_colab_link": true
    },
    "kernelspec": {
      "name": "python3",
      "display_name": "Python 3"
    },
    "language_info": {
      "name": "python"
    }
  },
  "cells": [
    {
      "cell_type": "markdown",
      "metadata": {
        "id": "view-in-github",
        "colab_type": "text"
      },
      "source": [
        "<a href=\"https://colab.research.google.com/github/andersonProfessor/Python-CeV/blob/main/d007.ipynb\" target=\"_parent\"><img src=\"https://colab.research.google.com/assets/colab-badge.svg\" alt=\"Open In Colab\"/></a>"
      ]
    },
    {
      "cell_type": "code",
      "execution_count": 5,
      "metadata": {
        "colab": {
          "base_uri": "https://localhost:8080/"
        },
        "id": "ZGPJZYZ57aPk",
        "outputId": "dd4051ff-0742-4340-b1b4-a46e6d264bc8"
      },
      "outputs": [
        {
          "output_type": "stream",
          "name": "stdout",
          "text": [
            "Nota Parcial: 7.5\n",
            "Nota Global: 4\n",
            "A média do aluno é 5.8.\n"
          ]
        }
      ],
      "source": [
        "# Curso em Vídeo de Python - Professor Gustavo Guanabara\n",
        "# Aluno: Anderson Costa\n",
        "\n",
        "# Desafio 007: Desenvolva um programa que leia as duas notas de um aluno, calcule e mostre sua média.\n",
        "\n",
        "nota1 = float(input('Nota Parcial: '))\n",
        "nota2 = float(input('Nota Global: '))\n",
        "media = (nota1 + nota2)/2\n",
        "\n",
        "print(f'A média do aluno é {media:.1f}.')"
      ]
    }
  ]
}