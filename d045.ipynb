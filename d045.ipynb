{
  "nbformat": 4,
  "nbformat_minor": 0,
  "metadata": {
    "colab": {
      "name": "d045",
      "provenance": [],
      "authorship_tag": "ABX9TyPMqFT751/VIjOiSmaX+8LU",
      "include_colab_link": true
    },
    "kernelspec": {
      "name": "python3",
      "display_name": "Python 3"
    },
    "language_info": {
      "name": "python"
    }
  },
  "cells": [
    {
      "cell_type": "markdown",
      "metadata": {
        "id": "view-in-github",
        "colab_type": "text"
      },
      "source": [
        "<a href=\"https://colab.research.google.com/github/andersonProfessor/Python-CeV/blob/main/d045.ipynb\" target=\"_parent\"><img src=\"https://colab.research.google.com/assets/colab-badge.svg\" alt=\"Open In Colab\"/></a>"
      ]
    },
    {
      "cell_type": "code",
      "execution_count": 13,
      "metadata": {
        "colab": {
          "base_uri": "https://localhost:8080/"
        },
        "id": "AP5VnlfZGaLk",
        "outputId": "cecba17d-9c8d-40c2-82be-dcf915a6103c"
      },
      "outputs": [
        {
          "output_type": "stream",
          "name": "stdout",
          "text": [
            "\n",
            "[1] - PEDRA \n",
            "[2] - PAPEL \n",
            "[3] - TESOURA\n",
            "\n",
            "Escolha sua jogada: 1\n",
            "\n",
            "JO   \n",
            "  KEM\n",
            "     PÔ\n",
            "\n",
            "CPU escolheu PEDRA e PLAYER escolheu PEDRA. EMPATE!!!\n"
          ]
        }
      ],
      "source": [
        "# Curso em Vídeo de Python - Professor Gustavo Guanabara\n",
        "# Aluno: Anderson Costa\n",
        "\n",
        "# Desafio 045: Crie um programa que faça o computador jogar JOKEMPÔ com você.\n",
        "\n",
        "from random import choice\n",
        "from time import sleep\n",
        "\n",
        "lista = ['PEDRA', 'PAPEL', 'TESOURA']\n",
        "\n",
        "cpu = choice(lista)\n",
        "\n",
        "print('\\n[1] - PEDRA \\n[2] - PAPEL \\n[3] - TESOURA\\n')\n",
        "\n",
        "player = int(input('Escolha sua jogada: '))\n",
        "\n",
        "if player == 1:\n",
        "  player = 'PEDRA'\n",
        "elif player == 2:\n",
        "  player = 'PAPEL'\n",
        "else:\n",
        "  player = 'TESOURA'\n",
        "\n",
        "print('\\nJO   ')\n",
        "sleep(2)\n",
        "print('  KEM')\n",
        "sleep(2)\n",
        "print('     PÔ')\n",
        "sleep(1)\n",
        "\n",
        "if cpu == 'PEDRA':\n",
        "  if player == 'PEDRA':\n",
        "    print(f'\\nCPU escolheu {cpu} e PLAYER escolheu {player}. EMPATE!!!')\n",
        "  elif player == 'PAPEL':\n",
        "    print(f'\\nCPU escolheu {cpu} e PLAYER escolheu {player}. PLAYER WINS!!!')\n",
        "  else:\n",
        "    print(f'\\nCPU escolheu {cpu} e PLAYER escolheu {player}. CPU WINS!!!')\n",
        "elif cpu == 'PAPEL':\n",
        "  if player == 'PEDRA':\n",
        "    print(f'\\nCPU escolheu {cpu} e PLAYER escolheu {player}. CPU WINS!!!')\n",
        "  elif player == 'PAPEL':\n",
        "    print(f'\\nCPU escolheu {cpu} e PLAYER escolheu {player}. EMPATE!!!')\n",
        "  else:\n",
        "    print(f'\\nCPU escolheu {cpu} e PLAYER escolheu {player}. PLAYER WINS!!!')\n",
        "else:\n",
        "  if player == 'PEDRA':\n",
        "    print(f'\\nCPU escolheu {cpu} e PLAYER escolheu {player}. PLAYER EMPATE!!!')\n",
        "  elif player == 'PAPEL':\n",
        "    print(f'\\nCPU escolheu {cpu} e PLAYER escolheu {player}. CPU WINS!!!')\n",
        "  else:\n",
        "    print(f'\\nCPU escolheu {cpu} e PLAYER escolheu {player}. EMPATE!!!')"
      ]
    }
  ]
}